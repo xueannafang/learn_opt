{
 "cells": [
  {
   "cell_type": "markdown",
   "id": "8e3d310c",
   "metadata": {},
   "source": [
    "This notebook is to go through basic procedures of genetic algorithm (GA).\n",
    "\n",
    "References:\n",
    "\n",
    "https://machinelearningmastery.com/simple-genetic-algorithm-from-scratch-in-python/, \n",
    "\n",
    "https://www.codewars.com/kata/567d609f1c16d7369c000008"
   ]
  },
  {
   "cell_type": "markdown",
   "id": "88f08d3f",
   "metadata": {},
   "source": [
    "## Step 1: \n",
    "\n",
    "https://www.codewars.com/kata/567d609f1c16d7369c000008\n",
    "\n",
    "A genetic algorithm is based in groups of chromosomes, called populations. To start our population of chromosomes we need to generate random binary strings with a specified length.\n",
    "\n",
    "In this kata you have to implement a function ```generate``` that receives a ```length``` and has to return a random binary string with length characters.\n",
    "\n",
    "(In practice, any real-life input will be first converted into a bit string, which is another big topic and we will touch it later...)"
   ]
  },
  {
   "cell_type": "code",
   "execution_count": 3,
   "id": "840c2f11",
   "metadata": {},
   "outputs": [],
   "source": [
    "import numpy as np"
   ]
  },
  {
   "cell_type": "code",
   "execution_count": 23,
   "id": "fc769b73",
   "metadata": {},
   "outputs": [],
   "source": [
    "#we use ranint to randomly generate 0 or 1\n",
    "dig_series_text = str(np.random.randint(0, 2, size = 4))"
   ]
  },
  {
   "cell_type": "code",
   "execution_count": 24,
   "id": "70f208e2",
   "metadata": {},
   "outputs": [],
   "source": [
    "dig_series_no_bracket = dig_series_text[1:-1]"
   ]
  },
  {
   "cell_type": "code",
   "execution_count": 34,
   "id": "e9ce293c",
   "metadata": {},
   "outputs": [],
   "source": [
    "def generate(length:int):\n",
    "    \"\"\"\n",
    "    example, length = 4, return a random series with 4 bits, for example, 1000, 1001, ..., 1111\n",
    "    note that this randint is returning a np.ndarray, if directly convert to string, it will contain space and brackets..\n",
    "    \"\"\"\n",
    "    dig_array = np.random.randint(0, 2, size = length)\n",
    "    dig_series_text = str(dig_array)[1:-1].replace(\" \", \"\").replace(\"\\n\", \"\")\n",
    "    \n",
    "    return dig_series_text"
   ]
  },
  {
   "cell_type": "code",
   "execution_count": 35,
   "id": "9e9a1800",
   "metadata": {},
   "outputs": [
    {
     "data": {
      "text/plain": [
       "'1001010000110101001010000010101100001110001010001000000100110000010001001100111101001110111100000010'"
      ]
     },
     "execution_count": 35,
     "metadata": {},
     "output_type": "execute_result"
    }
   ],
   "source": [
    "#example of step 1\n",
    "generate(100)"
   ]
  },
  {
   "cell_type": "markdown",
   "id": "14e60dd2",
   "metadata": {},
   "source": [
    "## Step 2 Mutation\n",
    "\n",
    "https://www.codewars.com/kata/genetic-algorithm-series-number-2-mutation\n",
    "\n",
    "Mutation is a genetic operator used to maintain genetic diversity from one generation of a population of genetic algorithm chromosomes to the next.\n",
    "\n",
    "For example, 1 to 0 or 0 to 1, with a given probability.\n",
    "\n",
    "The \"chromosomes\" mentioned in the question refers to the ```dig_series_text``` returned in the ```generate``` step.\n",
    "\n",
    "\n",
    "We use the philosophy of monte-carlo (reject/accept regime) here:\n",
    "\n",
    "- Generate a random number between 0 and 1.\n",
    "- For a given probability ```prob```, if the random number is below this probability, accept the change (i.e., mutate); otherwise, reject the change (i.e., remain)."
   ]
  },
  {
   "cell_type": "code",
   "execution_count": 38,
   "id": "9df1b206",
   "metadata": {},
   "outputs": [],
   "source": [
    "mutate_rule = {\n",
    "    '0' : '1',\n",
    "    '1' : '0'\n",
    "}\n",
    "\n",
    "\n",
    "def mutation(chrom:str, prob:float) -> str:\n",
    "    \"\"\"\n",
    "    prob is the probability for a given chromosomes, i.e., '0' or '1', to mutate into the opposite.\n",
    "    \"\"\"\n",
    "    dig_series_after_mutate = []\n",
    "    for dig_text in chrom:\n",
    "        #convert text to int\n",
    "        dig = int(dig_text)\n",
    "        \n",
    "        #generate a random number to compare with acceptance threshold. i.e., prob\n",
    "        mutate_this_dig = np.random.rand()\n",
    "        if mutate_this_dig < prob:\n",
    "            dig_series_after_mutate.append(mutate_rule[dig_text])\n",
    "        #else remain same\n",
    "        else:\n",
    "            dig_series_after_mutate.append(dig_text)\n",
    "    \n",
    "    mutated_chrom = \"\".join(dig_series_after_mutate)\n",
    "    return mutated_chrom"
   ]
  },
  {
   "cell_type": "code",
   "execution_count": 40,
   "id": "231aec8d",
   "metadata": {},
   "outputs": [
    {
     "name": "stdout",
     "output_type": "stream",
     "text": [
      "original chromosomes:\n",
      " 0100001000110000110100000010010100011101010010010111000100101000101110001001100011000001100001110100.\n",
      "\n",
      "mutated chromosomes:\n",
      " 1010100111001011010000111010101000011110001100101001100100110001101000101001001011110110010110110111.\n",
      "\n"
     ]
    }
   ],
   "source": [
    "length = 100\n",
    "prob = 0.5\n",
    "chrom = generate(length)\n",
    "print(f\"original chromosomes:\\n {chrom}.\\n\")\n",
    "mutated_chrom = mutation(chrom, prob)\n",
    "print(f\"mutated chromosomes:\\n {mutated_chrom}.\\n\")"
   ]
  },
  {
   "cell_type": "markdown",
   "id": "51a38d1a",
   "metadata": {},
   "source": [
    "## Step 3 Crossover\n",
    "\n",
    "https://www.codewars.com/kata/genetic-algorithm-series-number-3-crossover\n",
    "\n",
    "In genetic algorithms, crossover is a genetic operator used to vary the programming of chromosomes from one generation to the next.\n",
    "\n",
    "The one-point crossover consists in swapping one's chromosome part with another in a specific given point/cut point (```index```). \n",
    "\n",
    "For example, the cut point index is set as 4, a chromosome 1 \"10101111\" and a chromosome 2 \"11011001\" will be cut after the 4th digit (0), and everything after the 4th digit will be swapped with each other, yielding [chromosome 3, chromosome 4]:  [\"10101001\", \"11011111\"]."
   ]
  },
  {
   "cell_type": "code",
   "execution_count": 41,
   "id": "94363f16",
   "metadata": {},
   "outputs": [],
   "source": [
    "def crossover(chrom_1, chrom_2, cut_point_index):\n",
    "    chrom_3_list = []\n",
    "    chrom_4_list = []\n",
    "    for i in range(len(chrom_1)):\n",
    "        if i < cut_point_index:\n",
    "            chrom_3_list.append(chrom_1[i])\n",
    "            chrom_4_list.append(chrom_2[i])\n",
    "        else:\n",
    "            chrom_3_list.append(chrom_2[i])\n",
    "            chrom_4_list.append(chrom_1[i])\n",
    "    chrom_3 = \"\".join(chrom_3_list)\n",
    "    chrom_4 = \"\".join(chrom_4_list)\n",
    "    return chrom_3, chrom_4\n",
    "    "
   ]
  },
  {
   "cell_type": "code",
   "execution_count": 47,
   "id": "a14f4cce",
   "metadata": {},
   "outputs": [
    {
     "name": "stdout",
     "output_type": "stream",
     "text": [
      "chrom_1='0110111000101101000111010010111000001100101001001110110000100110111111011011010000000000110001100110',\n",
      "chrom_2='1111101100011111011010001001001101100000111110011010101101101000101001010001000110010000100110101111',\n",
      "chrom_3='0110111000011111011010001001001101100000111110011010101101101000101001010001000110010000100110101111',\n",
      "chrom_4='1111101100101101000111010010111000001100101001001110110000100110111111011011010000000000110001100110'\n",
      "\n"
     ]
    }
   ],
   "source": [
    "chrom_1 = mutation(generate(length), prob)\n",
    "chrom_2 = mutation(generate(length), prob)\n",
    "\n",
    "cut_point_index = 10\n",
    "\n",
    "chrom_3, chrom_4 = crossover(chrom_1, chrom_2, cut_point_index)\n",
    "\n",
    "print(f\"{chrom_1=},\\n{chrom_2=},\\n{chrom_3=},\\n{chrom_4=}\\n\")"
   ]
  },
  {
   "cell_type": "markdown",
   "id": "da02c11c",
   "metadata": {},
   "source": [
    "## Step 4 Get population and fitness\n",
    "\n",
    "https://www.codewars.com/kata/genetic-algorithm-series-number-4-get-population-and-fitnesses\n",
    "\n",
    "This step will compare the difference between the given chromosome with the ```ideal``` situation, quantified by a ```fitness``` function.\n",
    "\n",
    "The ```fitness``` function is another big topic related to how to properly optimise the outcome.. Here we use the given example in the codewars keta.\n",
    "\n",
    "```fitness``` can reflect the quality of individual. \n",
    "\n",
    "For example, fitness between 0.8 to 1 means this chromosome is very healthy and very likely to survive, thus it shares the largest portion of roulette wheel, i.e., largest probability to survive (56% for example).\n",
    "\n",
    "Fitness between 0.4 to 0.8 means this chromosome is okay to live to, let's say, average life span, so second large portion of the wheel...\n",
    "\n",
    "Fitness between 0.2 to 0.4 means this chromosome is not likely to survive till adulthood, maybe only a few percentage.\n",
    "\n",
    "Fitness below 0.2 means, very likely, this chromosome cannot even develop into an embryo, perhaps smaller than 1%."
   ]
  },
  {
   "cell_type": "code",
   "execution_count": 48,
   "id": "7f6b44ce",
   "metadata": {},
   "outputs": [
    {
     "name": "stdout",
     "output_type": "stream",
     "text": [
      "ideal='0000000011011111110001101101001100001011100000010000001000111011000000010001011000001001100011110110'\n",
      "\n"
     ]
    }
   ],
   "source": [
    "ideal = generate(length)\n",
    "print(f\"{ideal=}\\n\")"
   ]
  },
  {
   "cell_type": "code",
   "execution_count": 66,
   "id": "189ef331",
   "metadata": {},
   "outputs": [],
   "source": [
    "def get_fitness(ideal):\n",
    "    def fitness(test):\n",
    "        \"\"\"\n",
    "        test is the test chromosome to compare with the ideal chromosome\n",
    "        the similarity/fitness between test and ideal is quantified by calculating how many digits match with each other\n",
    "        \"\"\"\n",
    "        match_record = 0\n",
    "        for i, base in enumerate(test):\n",
    "            if base == ideal[i]:\n",
    "                match_record += 1\n",
    "        this_fitness = float(match_record/len(ideal))\n",
    "        return this_fitness\n",
    "    return fitness\n",
    "    \n",
    "\n",
    "def generate_population(length, pop_size):\n",
    "    \"\"\"\n",
    "    generate pop_size chromosomoes with given length\n",
    "    \"\"\"\n",
    "    population = []\n",
    "    for i in range(pop_size):\n",
    "        population.append(generate(length))\n",
    "    return population\n"
   ]
  },
  {
   "cell_type": "code",
   "execution_count": 67,
   "id": "954aef5f",
   "metadata": {},
   "outputs": [
    {
     "name": "stdout",
     "output_type": "stream",
     "text": [
      "population=['0010000111100001011110100110011001100111011111101001000001000011111100100000110100000011111111111001', '1000011101011011011110110111001100001110100110011100000011110000100001101100000110110001001111011101', '0011101100001101000001110110101100010010111001110111000100011111001100100011001101101101110011110000', '0100100000101000001101110101111010010000111011111000010111011000011110001110100011000001011000111001', '1101010111110110111110110001111101100110001101101110110100010001001001110111110111000011111001111000', '0110101010101000100110100110101010001110110001001101010010111010010101100100000000101101010011011011', '1011101010001000001111110011110011101111001110111011110101011111000000110111100111111110101011000101', '0110001001011011111111111110010001011011111101001000001100000001101011011011111000001111100111101100', '1110101001001110101010111011100000011000000101101100011110001110010010011001001101101100001001111110', '0000010000000000001101001101010001110001111010101011011011010110000011001001001110101011110001001100']\n",
      "\n"
     ]
    }
   ],
   "source": [
    "pop_size = 10\n",
    "population = generate_population(length, pop_size)\n",
    "print(f\"{population=}\\n\")"
   ]
  },
  {
   "cell_type": "code",
   "execution_count": 68,
   "id": "d15b6579",
   "metadata": {},
   "outputs": [],
   "source": [
    "def map_popluation_fit(population, fitness):\n",
    "    pop_fit_map = {}\n",
    "    for test in population:\n",
    "        this_fitness = fitness(test)\n",
    "        pop_fit_map[test] = this_fitness\n",
    "    return pop_fit_map\n",
    "        "
   ]
  },
  {
   "cell_type": "code",
   "execution_count": 70,
   "id": "166d1277",
   "metadata": {},
   "outputs": [
    {
     "data": {
      "text/plain": [
       "{'0010000111100001011110100110011001100111011111101001000001000011111100100000110100000011111111111001': 0.45,\n",
       " '1000011101011011011110110111001100001110100110011100000011110000100001101100000110110001001111011101': 0.53,\n",
       " '0011101100001101000001110110101100010010111001110111000100011111001100100011001101101101110011110000': 0.57,\n",
       " '0100100000101000001101110101111010010000111011111000010111011000011110001110100011000001011000111001': 0.39,\n",
       " '1101010111110110111110110001111101100110001101101110110100010001001001110111110111000011111001111000': 0.44,\n",
       " '0110101010101000100110100110101010001110110001001101010010111010010101100100000000101101010011011011': 0.51,\n",
       " '1011101010001000001111110011110011101111001110111011110101011111000000110111100111111110101011000101': 0.39,\n",
       " '0110001001011011111111111110010001011011111101001000001100000001101011011011111000001111100111101100': 0.6,\n",
       " '1110101001001110101010111011100000011000000101101100011110001110010010011001001101101100001001111110': 0.52,\n",
       " '0000010000000000001101001101010001110001111010101011011011010110000011001001001110101011110001001100': 0.49}"
      ]
     },
     "execution_count": 70,
     "metadata": {},
     "output_type": "execute_result"
    }
   ],
   "source": [
    "map_popluation_fit(population, get_fitness(ideal))"
   ]
  },
  {
   "cell_type": "markdown",
   "id": "e4f6a37d",
   "metadata": {},
   "source": [
    "## Step 5\n",
    "\n",
    "Ideally, we will now sort all the chromosomes according to the fitness.. but sortings things is expensive, especially if we have millions of populations.. (even the best sorting algorithm still needs $O(n\\log{n})$ complexity, and the implementation is not very straightforward).\n",
    "\n",
    "SO here we use monte-carlo again!\n",
    "\n",
    "The keta called it Roulette wheel (or Fitness Proportionate) selection.\n",
    "\n",
    "https://www.codewars.com/kata/genetic-algorithm-series-number-5-roulette-wheel-selection\n",
    "\n",
    "The basic idea is to set different levels of (discrete) probability thresholds, which matches with different quality of the species.\n",
    "\n",
    "Populations with the best fitnesses should cover the largest proportion.\n",
    "\n",
    "The probability to select each individual, $P_i = \\frac{f_i}{\\sum(f_i)}$\n",
    "\n",
    "and that is the function of ```select```"
   ]
  },
  {
   "cell_type": "code",
   "execution_count": 77,
   "id": "0586b9f2",
   "metadata": {},
   "outputs": [],
   "source": [
    "def select(population, fitness):\n",
    "    \n",
    "    #workout the fitness of all chromosomes in the population\n",
    "    \n",
    "    all_fitnesses = []\n",
    "    for i, chrom in enumerate(population):\n",
    "        this_fitness = fitness(chrom)\n",
    "        all_fitnesses.append(this_fitness)\n",
    "    \n",
    "    select_prob = []\n",
    "    \n",
    "    #prepare for fitness normalisation, get the sum of all fitnesses\n",
    "    total_fitness = np.sum(all_fitnesses)\n",
    "    select_prob = np.array(all_fitnesses)/total_fitness\n",
    "    \n",
    "    pop_sel_map = {}\n",
    "\n",
    "    \n",
    "    for i, chrom in enumerate(population):\n",
    "        pop_sel_map[chrom] = select_prob[i]\n",
    "    \n",
    "    #get all parameters\n",
    "    all_param_map = {\n",
    "        \"chromosome\":population,\n",
    "        \"fitness\" : all_fitnesses,\n",
    "        \"select_prob\" : select_prob\n",
    "    }\n",
    "    \n",
    "    #select the one by converting pdf to cdf\n",
    "    cum_select_prob = np.cumsum(select_prob)\n",
    "    #generate a random number to represent the position when the wheel stops\n",
    "    lucky_number = np.random.rand()\n",
    "    \n",
    "    \n",
    "    \n",
    "    \n",
    "    \n",
    "    return pop_sel_map, all_param_map"
   ]
  },
  {
   "cell_type": "code",
   "execution_count": null,
   "id": "d7e035f6",
   "metadata": {},
   "outputs": [],
   "source": []
  },
  {
   "cell_type": "code",
   "execution_count": 79,
   "id": "10f62de6",
   "metadata": {},
   "outputs": [],
   "source": [
    "pop_sel_map, all_param_map = select(population, get_fitness(ideal))"
   ]
  },
  {
   "cell_type": "code",
   "execution_count": 80,
   "id": "67209190",
   "metadata": {},
   "outputs": [
    {
     "data": {
      "text/plain": [
       "{'chromosome': ['0010000111100001011110100110011001100111011111101001000001000011111100100000110100000011111111111001',\n",
       "  '1000011101011011011110110111001100001110100110011100000011110000100001101100000110110001001111011101',\n",
       "  '0011101100001101000001110110101100010010111001110111000100011111001100100011001101101101110011110000',\n",
       "  '0100100000101000001101110101111010010000111011111000010111011000011110001110100011000001011000111001',\n",
       "  '1101010111110110111110110001111101100110001101101110110100010001001001110111110111000011111001111000',\n",
       "  '0110101010101000100110100110101010001110110001001101010010111010010101100100000000101101010011011011',\n",
       "  '1011101010001000001111110011110011101111001110111011110101011111000000110111100111111110101011000101',\n",
       "  '0110001001011011111111111110010001011011111101001000001100000001101011011011111000001111100111101100',\n",
       "  '1110101001001110101010111011100000011000000101101100011110001110010010011001001101101100001001111110',\n",
       "  '0000010000000000001101001101010001110001111010101011011011010110000011001001001110101011110001001100'],\n",
       " 'fitness': [0.45, 0.53, 0.57, 0.39, 0.44, 0.51, 0.39, 0.6, 0.52, 0.49],\n",
       " 'select_prob': array([0.09202454, 0.10838446, 0.11656442, 0.0797546 , 0.08997955,\n",
       "        0.10429448, 0.0797546 , 0.12269939, 0.10633947, 0.1002045 ])}"
      ]
     },
     "execution_count": 80,
     "metadata": {},
     "output_type": "execute_result"
    }
   ],
   "source": [
    "all_param_map"
   ]
  },
  {
   "cell_type": "code",
   "execution_count": 81,
   "id": "6bbe9ee4",
   "metadata": {},
   "outputs": [],
   "source": [
    "import pandas as pd"
   ]
  },
  {
   "cell_type": "code",
   "execution_count": 102,
   "id": "4b4a818c",
   "metadata": {},
   "outputs": [
    {
     "data": {
      "text/html": [
       "<div>\n",
       "<style scoped>\n",
       "    .dataframe tbody tr th:only-of-type {\n",
       "        vertical-align: middle;\n",
       "    }\n",
       "\n",
       "    .dataframe tbody tr th {\n",
       "        vertical-align: top;\n",
       "    }\n",
       "\n",
       "    .dataframe thead th {\n",
       "        text-align: right;\n",
       "    }\n",
       "</style>\n",
       "<table border=\"1\" class=\"dataframe\">\n",
       "  <thead>\n",
       "    <tr style=\"text-align: right;\">\n",
       "      <th></th>\n",
       "      <th>chromosome</th>\n",
       "      <th>fitness</th>\n",
       "      <th>select_prob</th>\n",
       "    </tr>\n",
       "  </thead>\n",
       "  <tbody>\n",
       "    <tr>\n",
       "      <th>0</th>\n",
       "      <td>0010000111100001011110100110011001100111011111...</td>\n",
       "      <td>0.45</td>\n",
       "      <td>0.092025</td>\n",
       "    </tr>\n",
       "    <tr>\n",
       "      <th>1</th>\n",
       "      <td>1000011101011011011110110111001100001110100110...</td>\n",
       "      <td>0.53</td>\n",
       "      <td>0.108384</td>\n",
       "    </tr>\n",
       "    <tr>\n",
       "      <th>2</th>\n",
       "      <td>0011101100001101000001110110101100010010111001...</td>\n",
       "      <td>0.57</td>\n",
       "      <td>0.116564</td>\n",
       "    </tr>\n",
       "    <tr>\n",
       "      <th>3</th>\n",
       "      <td>0100100000101000001101110101111010010000111011...</td>\n",
       "      <td>0.39</td>\n",
       "      <td>0.079755</td>\n",
       "    </tr>\n",
       "    <tr>\n",
       "      <th>4</th>\n",
       "      <td>1101010111110110111110110001111101100110001101...</td>\n",
       "      <td>0.44</td>\n",
       "      <td>0.089980</td>\n",
       "    </tr>\n",
       "    <tr>\n",
       "      <th>5</th>\n",
       "      <td>0110101010101000100110100110101010001110110001...</td>\n",
       "      <td>0.51</td>\n",
       "      <td>0.104294</td>\n",
       "    </tr>\n",
       "    <tr>\n",
       "      <th>6</th>\n",
       "      <td>1011101010001000001111110011110011101111001110...</td>\n",
       "      <td>0.39</td>\n",
       "      <td>0.079755</td>\n",
       "    </tr>\n",
       "    <tr>\n",
       "      <th>7</th>\n",
       "      <td>0110001001011011111111111110010001011011111101...</td>\n",
       "      <td>0.60</td>\n",
       "      <td>0.122699</td>\n",
       "    </tr>\n",
       "    <tr>\n",
       "      <th>8</th>\n",
       "      <td>1110101001001110101010111011100000011000000101...</td>\n",
       "      <td>0.52</td>\n",
       "      <td>0.106339</td>\n",
       "    </tr>\n",
       "    <tr>\n",
       "      <th>9</th>\n",
       "      <td>0000010000000000001101001101010001110001111010...</td>\n",
       "      <td>0.49</td>\n",
       "      <td>0.100204</td>\n",
       "    </tr>\n",
       "  </tbody>\n",
       "</table>\n",
       "</div>"
      ],
      "text/plain": [
       "                                          chromosome  fitness  select_prob\n",
       "0  0010000111100001011110100110011001100111011111...     0.45     0.092025\n",
       "1  1000011101011011011110110111001100001110100110...     0.53     0.108384\n",
       "2  0011101100001101000001110110101100010010111001...     0.57     0.116564\n",
       "3  0100100000101000001101110101111010010000111011...     0.39     0.079755\n",
       "4  1101010111110110111110110001111101100110001101...     0.44     0.089980\n",
       "5  0110101010101000100110100110101010001110110001...     0.51     0.104294\n",
       "6  1011101010001000001111110011110011101111001110...     0.39     0.079755\n",
       "7  0110001001011011111111111110010001011011111101...     0.60     0.122699\n",
       "8  1110101001001110101010111011100000011000000101...     0.52     0.106339\n",
       "9  0000010000000000001101001101010001110001111010...     0.49     0.100204"
      ]
     },
     "execution_count": 102,
     "metadata": {},
     "output_type": "execute_result"
    }
   ],
   "source": [
    "all_pop_info = pd.DataFrame.from_dict(all_param_map)\n",
    "all_pop_info"
   ]
  },
  {
   "cell_type": "code",
   "execution_count": 104,
   "id": "6e56096b",
   "metadata": {},
   "outputs": [
    {
     "data": {
      "text/plain": [
       "0.9999999999999998"
      ]
     },
     "execution_count": 104,
     "metadata": {},
     "output_type": "execute_result"
    }
   ],
   "source": [
    "all_pop_info[\"select_prob\"]"
   ]
  },
  {
   "cell_type": "code",
   "execution_count": 83,
   "id": "ad29e417",
   "metadata": {},
   "outputs": [],
   "source": [
    "import matplotlib.pyplot as plt"
   ]
  },
  {
   "cell_type": "code",
   "execution_count": 101,
   "id": "d0c1fdc6",
   "metadata": {},
   "outputs": [
    {
     "data": {
      "text/plain": [
       "<matplotlib.legend.Legend at 0x192a0fbbd60>"
      ]
     },
     "execution_count": 101,
     "metadata": {},
     "output_type": "execute_result"
    },
    {
     "data": {
      "image/png": "[encoded data removed]",
      "text/plain": [
       "<Figure size 432x288 with 1 Axes>"
      ]
     },
     "metadata": {
      "needs_background": "light"
     },
     "output_type": "display_data"
    }
   ],
   "source": [
    "plt.hist(all_pop_info[\"fitness\"], bins = 20, label = \"fitness\")\n",
    "plt.legend()"
   ]
  },
  {
   "cell_type": "code",
   "execution_count": 100,
   "id": "477454bf",
   "metadata": {},
   "outputs": [
    {
     "data": {
      "text/plain": [
       "(array([2., 0., 0., 0., 1., 1., 0., 0., 0., 1., 0., 1., 1., 1., 0., 0., 0.,\n",
       "        1., 0., 1.]),\n",
       " array([0.0797546 , 0.08190184, 0.08404908, 0.08619632, 0.08834356,\n",
       "        0.0904908 , 0.09263804, 0.09478528, 0.09693252, 0.09907975,\n",
       "        0.10122699, 0.10337423, 0.10552147, 0.10766871, 0.10981595,\n",
       "        0.11196319, 0.11411043, 0.11625767, 0.11840491, 0.12055215,\n",
       "        0.12269939]),\n",
       " <BarContainer object of 20 artists>)"
      ]
     },
     "execution_count": 100,
     "metadata": {},
     "output_type": "execute_result"
    },
    {
     "data": {
      "image/png": "[encoded data removed]",
      "text/plain": [
       "<Figure size 432x288 with 1 Axes>"
      ]
     },
     "metadata": {
      "needs_background": "light"
     },
     "output_type": "display_data"
    }
   ],
   "source": [
    "plt.hist(all_pop_info[\"select_prob\"], bins = 20)"
   ]
  },
  {
   "cell_type": "code",
   "execution_count": null,
   "id": "0d81462c",
   "metadata": {},
   "outputs": [],
   "source": []
  }
 ],
 "metadata": {
  "kernelspec": {
   "display_name": "Python 3 (ipykernel)",
   "language": "python",
   "name": "python3"
  },
  "language_info": {
   "codemirror_mode": {
    "name": "ipython",
    "version": 3
   },
   "file_extension": ".py",
   "mimetype": "text/x-python",
   "name": "python",
   "nbconvert_exporter": "python",
   "pygments_lexer": "ipython3",
   "version": "3.9.12"
  }
 },
 "nbformat": 4,
 "nbformat_minor": 5
}
