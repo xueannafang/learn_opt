{
 "cells": [
  {
   "cell_type": "markdown",
   "id": "8e3d310c",
   "metadata": {},
   "source": [
    "This notebook is to go through basic procedures of genetic algorithm (GA).\n",
    "\n",
    "References:\n",
    "\n",
    "https://machinelearningmastery.com/simple-genetic-algorithm-from-scratch-in-python/, \n",
    "\n",
    "https://www.codewars.com/kata/567d609f1c16d7369c000008"
   ]
  },
  {
   "cell_type": "markdown",
   "id": "88f08d3f",
   "metadata": {},
   "source": [
    "## Step 1: \n",
    "\n",
    "https://www.codewars.com/kata/567d609f1c16d7369c000008\n",
    "\n",
    "A genetic algorithm is based in groups of chromosomes, called populations. To start our population of chromosomes we need to generate random binary strings with a specified length.\n",
    "\n",
    "In this kata you have to implement a function ```generate``` that receives a ```length``` and has to return a random binary string with length characters.\n",
    "\n",
    "(In practice, any real-life input will be first converted into a bit string, which is another big topic and we will touch it later...)"
   ]
  },
  {
   "cell_type": "code",
   "execution_count": 17,
   "id": "840c2f11",
   "metadata": {},
   "outputs": [],
   "source": [
    "import numpy as np\n",
    "import matplotlib.pyplot as plt"
   ]
  },
  {
   "cell_type": "code",
   "execution_count": 2,
   "id": "fc769b73",
   "metadata": {},
   "outputs": [],
   "source": [
    "#we use ranint to randomly generate 0 or 1\n",
    "dig_series_text = str(np.random.randint(0, 2, size = 4))"
   ]
  },
  {
   "cell_type": "code",
   "execution_count": 3,
   "id": "70f208e2",
   "metadata": {},
   "outputs": [],
   "source": [
    "dig_series_no_bracket = dig_series_text[1:-1]"
   ]
  },
  {
   "cell_type": "code",
   "execution_count": 4,
   "id": "e9ce293c",
   "metadata": {},
   "outputs": [],
   "source": [
    "def generate(length:int):\n",
    "    \"\"\"\n",
    "    example, length = 4, return a random series with 4 bits, for example, 1000, 1001, ..., 1111\n",
    "    note that this randint is returning a np.ndarray, if directly convert to string, it will contain space and brackets..\n",
    "    \"\"\"\n",
    "    dig_array = np.random.randint(0, 2, size = length)\n",
    "    dig_series_text = str(dig_array)[1:-1].replace(\" \", \"\").replace(\"\\n\", \"\")\n",
    "    \n",
    "    return dig_series_text"
   ]
  },
  {
   "cell_type": "code",
   "execution_count": 5,
   "id": "9e9a1800",
   "metadata": {},
   "outputs": [
    {
     "data": {
      "text/plain": [
       "'1110100001111010001100111110010011101000110110100101001011110011100100001000110010110101111000011101'"
      ]
     },
     "execution_count": 5,
     "metadata": {},
     "output_type": "execute_result"
    }
   ],
   "source": [
    "#example of step 1\n",
    "generate(100)"
   ]
  },
  {
   "cell_type": "markdown",
   "id": "14e60dd2",
   "metadata": {},
   "source": [
    "## Step 2 Mutation\n",
    "\n",
    "https://www.codewars.com/kata/genetic-algorithm-series-number-2-mutation\n",
    "\n",
    "Mutation is a genetic operator used to maintain genetic diversity from one generation of a population of genetic algorithm chromosomes to the next.\n",
    "\n",
    "For example, 1 to 0 or 0 to 1, with a given probability.\n",
    "\n",
    "The \"chromosomes\" mentioned in the question refers to the ```dig_series_text``` returned in the ```generate``` step.\n",
    "\n",
    "\n",
    "We use the philosophy of monte-carlo (reject/accept regime) here:\n",
    "\n",
    "- Generate a random number between 0 and 1.\n",
    "- For a given probability ```prob```, if the random number is below this probability, accept the change (i.e., mutate); otherwise, reject the change (i.e., remain)."
   ]
  },
  {
   "cell_type": "code",
   "execution_count": 6,
   "id": "9df1b206",
   "metadata": {},
   "outputs": [],
   "source": [
    "mutate_rule = {\n",
    "    '0' : '1',\n",
    "    '1' : '0'\n",
    "}\n",
    "\n",
    "\n",
    "def mutation(chrom:str, prob:float) -> str:\n",
    "    \"\"\"\n",
    "    prob is the probability for a given chromosomes, i.e., '0' or '1', to mutate into the opposite.\n",
    "    \"\"\"\n",
    "    dig_series_after_mutate = []\n",
    "    for dig_text in chrom:\n",
    "        #convert text to int\n",
    "        dig = int(dig_text)\n",
    "        \n",
    "        #generate a random number to compare with acceptance threshold. i.e., prob\n",
    "        mutate_this_dig = np.random.rand()\n",
    "        if mutate_this_dig < prob:\n",
    "            dig_series_after_mutate.append(mutate_rule[dig_text])\n",
    "        #else remain same\n",
    "        else:\n",
    "            dig_series_after_mutate.append(dig_text)\n",
    "    \n",
    "    mutated_chrom = \"\".join(dig_series_after_mutate)\n",
    "    return mutated_chrom"
   ]
  },
  {
   "cell_type": "code",
   "execution_count": 7,
   "id": "231aec8d",
   "metadata": {},
   "outputs": [
    {
     "name": "stdout",
     "output_type": "stream",
     "text": [
      "original chromosomes:\n",
      " 1001011100101001111010010000011110010100110011011111010110111111100011101110000111011101101001001001.\n",
      "\n",
      "mutated chromosomes:\n",
      " 0001010111001100111000010111011100011101110010001000111110000000001011110010011111110110011011100011.\n",
      "\n"
     ]
    }
   ],
   "source": [
    "length = 100\n",
    "prob = 0.5\n",
    "chrom = generate(length)\n",
    "print(f\"original chromosomes:\\n {chrom}.\\n\")\n",
    "mutated_chrom = mutation(chrom, prob)\n",
    "print(f\"mutated chromosomes:\\n {mutated_chrom}.\\n\")"
   ]
  },
  {
   "cell_type": "markdown",
   "id": "51a38d1a",
   "metadata": {},
   "source": [
    "## Step 3 Crossover\n",
    "\n",
    "https://www.codewars.com/kata/genetic-algorithm-series-number-3-crossover\n",
    "\n",
    "In genetic algorithms, crossover is a genetic operator used to vary the programming of chromosomes from one generation to the next.\n",
    "\n",
    "The one-point crossover consists in swapping one's chromosome part with another in a specific given point/cut point (```index```). \n",
    "\n",
    "For example, the cut point index is set as 4, a chromosome 1 \"10101111\" and a chromosome 2 \"11011001\" will be cut after the 4th digit (0), and everything after the 4th digit will be swapped with each other, yielding [chromosome 3, chromosome 4]:  [\"10101001\", \"11011111\"]."
   ]
  },
  {
   "cell_type": "code",
   "execution_count": 8,
   "id": "94363f16",
   "metadata": {},
   "outputs": [],
   "source": [
    "def crossover(chrom_1, chrom_2, cut_point_index):\n",
    "    chrom_3_list = []\n",
    "    chrom_4_list = []\n",
    "    for i in range(len(chrom_1)):\n",
    "        if i < cut_point_index:\n",
    "            chrom_3_list.append(chrom_1[i])\n",
    "            chrom_4_list.append(chrom_2[i])\n",
    "        else:\n",
    "            chrom_3_list.append(chrom_2[i])\n",
    "            chrom_4_list.append(chrom_1[i])\n",
    "    chrom_3 = \"\".join(chrom_3_list)\n",
    "    chrom_4 = \"\".join(chrom_4_list)\n",
    "    return chrom_3, chrom_4\n",
    "    "
   ]
  },
  {
   "cell_type": "code",
   "execution_count": 9,
   "id": "a14f4cce",
   "metadata": {},
   "outputs": [
    {
     "name": "stdout",
     "output_type": "stream",
     "text": [
      "chrom_1='0101010000000011001110110000111100100000000100011101110110110101001111100110101100001101001110110010',\n",
      "chrom_2='1001010001110011110011011100100111100001000011010101011001101001101101110110101000010110010111010101',\n",
      "chrom_3='0101010000110011110011011100100111100001000011010101011001101001101101110110101000010110010111010101',\n",
      "chrom_4='1001010001000011001110110000111100100000000100011101110110110101001111100110101100001101001110110010'\n",
      "\n"
     ]
    }
   ],
   "source": [
    "chrom_1 = mutation(generate(length), prob)\n",
    "chrom_2 = mutation(generate(length), prob)\n",
    "\n",
    "cut_point_index = 10\n",
    "\n",
    "chrom_3, chrom_4 = crossover(chrom_1, chrom_2, cut_point_index)\n",
    "\n",
    "print(f\"{chrom_1=},\\n{chrom_2=},\\n{chrom_3=},\\n{chrom_4=}\\n\")"
   ]
  },
  {
   "cell_type": "markdown",
   "id": "da02c11c",
   "metadata": {},
   "source": [
    "## Step 4 Get population and fitness\n",
    "\n",
    "https://www.codewars.com/kata/genetic-algorithm-series-number-4-get-population-and-fitnesses\n",
    "\n",
    "This step will compare the difference between the given chromosome with the ```ideal``` situation, quantified by a ```fitness``` function.\n",
    "\n",
    "The ```fitness``` function is another big topic related to how to properly optimise the outcome.. Here we use the given example in the codewars keta.\n",
    "\n",
    "```fitness``` can reflect the quality of individual. \n",
    "\n",
    "For example, fitness between 0.8 to 1 means this chromosome is very healthy and very likely to survive, thus it shares the largest portion of roulette wheel, i.e., largest probability to survive (56% for example).\n",
    "\n",
    "Fitness between 0.4 to 0.8 means this chromosome is okay to live to, let's say, average life span, so second large portion of the wheel...\n",
    "\n",
    "Fitness between 0.2 to 0.4 means this chromosome is not likely to survive till adulthood, maybe only a few percentage.\n",
    "\n",
    "Fitness below 0.2 means, very likely, this chromosome cannot even develop into an embryo, perhaps smaller than 1%."
   ]
  },
  {
   "cell_type": "code",
   "execution_count": 10,
   "id": "7f6b44ce",
   "metadata": {},
   "outputs": [
    {
     "name": "stdout",
     "output_type": "stream",
     "text": [
      "ideal='1001100001001011101001001111001100100011101001001101110101010100001110111001100010111100010001010111'\n",
      "\n"
     ]
    }
   ],
   "source": [
    "ideal = generate(length)\n",
    "print(f\"{ideal=}\\n\")"
   ]
  },
  {
   "cell_type": "code",
   "execution_count": 11,
   "id": "189ef331",
   "metadata": {},
   "outputs": [],
   "source": [
    "def get_fitness(ideal):\n",
    "    def fitness(test):\n",
    "        \"\"\"\n",
    "        test is the test chromosome to compare with the ideal chromosome\n",
    "        the similarity/fitness between test and ideal is quantified by calculating how many digits match with each other\n",
    "        \"\"\"\n",
    "        match_record = 0\n",
    "        for i, base in enumerate(test):\n",
    "            if base == ideal[i]:\n",
    "                match_record += 1\n",
    "        this_fitness = float(match_record/len(ideal))\n",
    "        return this_fitness\n",
    "    return fitness\n",
    "    \n",
    "\n",
    "def generate_population(length, pop_size):\n",
    "    \"\"\"\n",
    "    generate pop_size chromosomoes with given length\n",
    "    \"\"\"\n",
    "    population = []\n",
    "    for i in range(pop_size):\n",
    "        population.append(generate(length))\n",
    "    return population\n"
   ]
  },
  {
   "cell_type": "code",
   "execution_count": 12,
   "id": "954aef5f",
   "metadata": {},
   "outputs": [
    {
     "name": "stdout",
     "output_type": "stream",
     "text": [
      "population=['1001100100110001100111011110000001010100110011110110101011001001100110011010100001010000001110000010', '1100010010010000101010110110010010110100101000000001101001010000010011110101100110001111100111011111', '1111100111110111010000101100111011001010001000111000110000100010100100100011001111111100101110100100', '0001010111001101010100111011111011011101101011101001111010000000111111101000101000011000010010010110', '1100001100000110011000111100101101111011010101010101111000010100110111010110011111000101110001011000', '0000101000100100001000000001111011000110101111011011100101000111011011011001110001111111010110111000', '0000101011111000000110010010101000110101111001010111001010001100100010100100001011011100001000011110', '1000011001000010000110110011001100011110011110101001011011011011011101000100100011110010011111100110', '0111110010010110001110001110000100010101011011000111110101001111111100010111100001101111000011100001', '0101101000101010110000110100110010111100011011100001100010001101110001010111000111110000101110100010']\n",
      "\n"
     ]
    }
   ],
   "source": [
    "pop_size = 10\n",
    "population = generate_population(length, pop_size)\n",
    "print(f\"{population=}\\n\")"
   ]
  },
  {
   "cell_type": "code",
   "execution_count": 13,
   "id": "d15b6579",
   "metadata": {},
   "outputs": [],
   "source": [
    "def map_popluation_fit(population, fitness):\n",
    "    pop_fit_map = {}\n",
    "    for test in population:\n",
    "        this_fitness = fitness(test)\n",
    "        pop_fit_map[test] = this_fitness\n",
    "    return pop_fit_map\n",
    "        "
   ]
  },
  {
   "cell_type": "code",
   "execution_count": 14,
   "id": "166d1277",
   "metadata": {},
   "outputs": [
    {
     "data": {
      "text/plain": [
       "{'1001100100110001100111011110000001010100110011110110101011001001100110011010100001010000001110000010': 0.47,\n",
       " '1100010010010000101010110110010010110100101000000001101001010000010011110101100110001111100111011111': 0.53,\n",
       " '1111100111110111010000101100111011001010001000111000110000100010100100100011001111111100101110100100': 0.45,\n",
       " '0001010111001101010100111011111011011101101011101001111010000000111111101000101000011000010010010110': 0.54,\n",
       " '1100001100000110011000111100101101111011010101010101111000010100110111010110011111000101110001011000': 0.48,\n",
       " '0000101000100100001000000001111011000110101111011011100101000111011011011001110001111111010110111000': 0.52,\n",
       " '0000101011111000000110010010101000110101111001010111001010001100100010100100001011011100001000011110': 0.5,\n",
       " '1000011001000010000110110011001100011110011110101001011011011011011101000100100011110010011111100110': 0.47,\n",
       " '0111110010010110001110001110000100010101011011000111110101001111111100010111100001101111000011100001': 0.53,\n",
       " '0101101000101010110000110100110010111100011011100001100010001101110001010111000111110000101110100010': 0.38}"
      ]
     },
     "execution_count": 14,
     "metadata": {},
     "output_type": "execute_result"
    }
   ],
   "source": [
    "map_popluation_fit(population, get_fitness(ideal))"
   ]
  },
  {
   "cell_type": "markdown",
   "id": "e4f6a37d",
   "metadata": {},
   "source": [
    "## Step 5\n",
    "\n",
    "Ideally, we will now sort all the chromosomes according to the fitness.. but sortings things is expensive, especially if we have millions of populations.. (even the best sorting algorithm still needs $O(n\\log{n})$ complexity, and the implementation is not very straightforward).\n",
    "\n",
    "SO here we use monte-carlo again!\n",
    "\n",
    "The keta called it Roulette wheel (or Fitness Proportionate) selection.\n",
    "\n",
    "https://www.codewars.com/kata/genetic-algorithm-series-number-5-roulette-wheel-selection\n",
    "\n",
    "The basic idea is to set different levels of (discrete) probability thresholds, which matches with different quality of the species.\n",
    "\n",
    "Populations with the best fitnesses should cover the largest proportion.\n",
    "\n",
    "The probability to select each individual, $P_i = \\frac{f_i}{\\sum(f_i)}$\n",
    "\n",
    "and that is the function of ```select```"
   ]
  },
  {
   "cell_type": "code",
   "execution_count": 37,
   "id": "736e8e60",
   "metadata": {},
   "outputs": [
    {
     "name": "stdout",
     "output_type": "stream",
     "text": [
      "imagine_probability_of_selection=array([2.55416022e-03, 7.55387789e-03, 3.74089902e-03, 4.65264693e-03,\n",
      "       6.01931836e-03, 7.01265394e-03, 8.78556106e-03, 2.34496266e-03,\n",
      "       3.84700242e-03, 1.08905459e-03, 4.88636416e-03, 8.21788082e-03,\n",
      "       9.44052823e-03, 5.86114706e-03, 1.58945375e-03, 1.55011360e-03,\n",
      "       9.37446060e-03, 9.68007843e-03, 4.32673187e-03, 2.81999863e-03,\n",
      "       5.38153489e-03, 4.31163630e-03, 8.62776877e-03, 7.69146955e-03,\n",
      "       4.56308577e-03, 1.70506669e-03, 9.48305299e-03, 8.17649608e-03,\n",
      "       1.12884929e-03, 9.31812074e-03, 8.12858409e-03, 3.44170183e-03,\n",
      "       4.76669958e-03, 6.01333490e-03, 2.20846313e-03, 3.46679549e-03,\n",
      "       7.51847436e-03, 8.34310831e-03, 1.47606653e-03, 2.72772275e-03,\n",
      "       3.41323285e-03, 4.43025718e-03, 2.62897901e-03, 4.14854060e-03,\n",
      "       6.18757576e-03, 4.30909513e-03, 5.50300124e-03, 4.56919154e-03,\n",
      "       9.56282183e-03, 5.40809227e-03, 7.94500435e-03, 5.20673653e-03,\n",
      "       5.63417824e-03, 5.10132932e-03, 8.99615215e-03, 2.09627925e-03,\n",
      "       2.10523956e-03, 9.61632883e-03, 3.73528248e-03, 2.99448935e-03,\n",
      "       2.28329254e-03, 7.12277126e-03, 5.12401307e-03, 6.44104262e-03,\n",
      "       2.44165271e-03, 2.08642506e-03, 6.07933412e-03, 2.45411973e-03,\n",
      "       4.07015666e-03, 5.86175060e-03, 5.42292357e-03, 6.93017436e-03,\n",
      "       7.17163606e-03, 5.41743403e-03, 3.64924751e-03, 6.42353085e-03,\n",
      "       2.95686987e-03, 2.05984048e-03, 6.42124579e-03, 1.39052304e-03,\n",
      "       5.04713029e-03, 6.67738138e-03, 2.47242236e-03, 6.42217438e-03,\n",
      "       3.63505609e-03, 8.96327268e-03, 4.09159857e-03, 6.63965039e-03,\n",
      "       2.48612128e-03, 6.04011546e-03, 6.20732470e-05, 9.72457825e-03,\n",
      "       9.59863420e-03, 5.33912584e-03, 5.69416886e-03, 2.79977841e-03,\n",
      "       9.01294978e-04, 6.48249897e-04, 8.16246023e-03, 5.06141620e-03,\n",
      "       1.02879371e-03, 2.30227698e-03, 1.02228412e-03, 1.60136646e-03,\n",
      "       2.29447895e-03, 5.72993327e-03, 7.53778383e-03, 8.31794015e-03,\n",
      "       5.69934784e-03, 5.63769366e-03, 1.99177186e-03, 2.95802955e-03,\n",
      "       9.18774562e-03, 4.63561304e-03, 7.48920959e-03, 5.34031349e-03,\n",
      "       1.00060311e-03, 7.04800089e-03, 8.74797010e-03, 7.11824930e-03,\n",
      "       6.69461590e-03, 6.18696192e-03, 3.30290967e-03, 4.03350936e-03,\n",
      "       7.01565682e-03, 8.32744388e-03, 8.05542746e-03, 1.80496350e-03,\n",
      "       6.04900227e-04, 1.42845148e-03, 7.15132236e-03, 3.40170548e-03,\n",
      "       6.59808349e-04, 7.57369866e-03, 2.37754099e-04, 6.26652146e-03,\n",
      "       9.23040906e-03, 4.09294113e-03, 6.43945302e-03, 3.32232765e-03,\n",
      "       3.75048661e-03, 2.82514527e-03, 1.93793342e-03, 6.68172020e-03,\n",
      "       2.05850584e-03, 7.68705262e-03, 4.18426026e-03, 8.36079535e-03,\n",
      "       9.16938520e-03, 9.48384841e-04, 4.05305060e-03, 8.21247846e-03,\n",
      "       2.55080412e-03, 8.61707949e-03, 7.40324275e-03, 5.90902999e-03,\n",
      "       5.40884255e-03, 8.03269050e-03, 2.46779612e-03, 2.18691508e-03,\n",
      "       2.74833921e-03, 7.50521468e-03, 5.46464774e-03, 5.86612989e-03,\n",
      "       6.59447986e-03, 5.79064265e-03, 2.79879174e-03, 5.71230991e-03,\n",
      "       5.19849785e-03, 3.48466376e-03, 6.91656696e-03, 4.51911346e-03,\n",
      "       7.38567948e-03, 2.93520893e-03, 5.05325178e-03, 2.08090999e-03,\n",
      "       9.36157675e-04, 8.79075701e-03, 4.76520096e-03, 3.37724679e-04,\n",
      "       5.07081817e-03, 6.94659710e-03, 8.81735867e-03, 5.96750364e-03,\n",
      "       3.74421211e-03, 5.59858696e-03, 5.66695264e-03, 7.31305725e-03,\n",
      "       5.45878620e-03, 8.38412370e-04, 2.05404632e-03, 1.31266189e-03,\n",
      "       9.86956024e-04, 2.51010136e-03, 9.47092830e-03, 4.23003927e-03,\n",
      "       6.10207892e-03, 8.42252319e-03, 5.25069201e-03, 4.69619240e-03])\n",
      "lucky_numbers=array([0.78350791, 0.23002743, 0.92050813, 0.36412021, 0.30343941,\n",
      "       0.14936786, 0.52694082, 0.10410753, 0.57631658, 0.59349841,\n",
      "       0.4626276 , 0.83929494, 0.42264273, 0.63303983, 0.21611701,\n",
      "       0.87446672, 0.94114276, 0.7494637 , 0.52871504, 0.40735061,\n",
      "       0.87860059, 0.47588283, 0.8752736 , 0.38210117, 0.73508758,\n",
      "       0.35354903, 0.56004905, 0.44082638, 0.04707692, 0.83958061,\n",
      "       0.9942252 , 0.28719207, 0.85735473, 0.75748875, 0.92074221,\n",
      "       0.9150457 , 0.66444963, 0.9077506 , 0.15574723, 0.5929263 ,\n",
      "       0.63618921, 0.80472391, 0.61229215, 0.98271199, 0.65282669,\n",
      "       0.24363545, 0.78643866, 0.12323787, 0.27011635, 0.8412023 ,\n",
      "       0.66616306, 0.48265096, 0.50017837, 0.96293539, 0.77529653,\n",
      "       0.5992564 , 0.86151645, 0.79593155, 0.95714429, 0.94857181,\n",
      "       0.21560268, 0.31425822, 0.97828997, 0.30674961, 0.38303048,\n",
      "       0.45084751, 0.12841445, 0.51522469, 0.48672147, 0.56224453,\n",
      "       0.98972789, 0.58436801, 0.71913055, 0.26796508, 0.63363981,\n",
      "       0.36572247, 0.59203469, 0.14624101, 0.70570624, 0.92297952,\n",
      "       0.84124196, 0.59392044, 0.60369976, 0.28067533, 0.73703869,\n",
      "       0.85867115, 0.17706157, 0.94252543, 0.28257438, 0.99805989,\n",
      "       0.31936911, 0.32162204, 0.474445  , 0.46857738, 0.29768054,\n",
      "       0.99158304, 0.55553573, 0.26704364, 0.87462135, 0.72372469])\n",
      "selected_kid_id=[155, 44, 183, 70, 57, 26, 107, 18, 117, 120, 91, 167, 82, 126, 37, 174, 187, 148, 105, 76, 173, 89, 172, 71, 146, 63, 112, 83, 6, 165, 199, 50, 169, 151, 182, 181, 129, 178, 23, 114, 123, 156, 118, 197, 124, 38, 150, 17, 46, 161, 127, 85, 87, 194, 145, 108, 163, 147, 188, 185, 30, 49, 195, 48, 61, 74, 16, 92, 81, 99, 196, 106, 135, 36, 119, 54, 109, 19, 136, 176, 158, 100, 103, 39, 138, 162, 22, 180, 40, 198, 47, 45, 73, 72, 35, 191, 94, 32, 164, 133]\n",
      "selected_kid_prob=[0.005909029989924097, 0.0062243556670943155, 0.006040574081989779, 0.005522685971988588, 0.009847620213680821, 0.009807721543252566, 0.008687927847473553, 0.004558794357750062, 0.007460026251115018, 0.0071392413340277605, 0.01044500921852292, 0.006200259691213414, 0.0027003614669177255, 0.008821900794432576, 0.009218277181792469, 0.005635271335438671, 0.008201573041814342, 0.01036847741536316, 0.006547127711833435, 0.003400839927293065, 0.0033874467805059, 0.006994430335847642, 0.00861283010145769, 0.008151852094078618, 0.004962329892030184, 0.007676859516266653, 0.011035277628993166, 0.007799658633865041, 0.010753841493025584, 0.007165005392014035, 0.005852730976861853, 0.009959925640946618, 0.004412351078893932, 0.01044489132453958, 0.011332564622478258, 0.009030495449769842, 0.0018738924883591071, 0.006262892869471779, 0.010172590920635802, 0.010006881669064646, 0.00544394429785949, 0.007340162533268665, 0.011959366544514089, 0.011653819754359725, 0.009821669810607779, 0.002086937806650973, 0.0057423927585386675, 0.013794019047422038, 0.007951405912002505, 0.010931367287808968, 0.0026579901147648767, 0.013234496839975463, 0.009935096276408106, 0.01431382655650447, 0.011786487265917052, 0.008842985499382167, 0.009182965772346436, 0.013209470788497693, 0.008739949802012297, 0.009042815669916084, 0.013249065953661952, 0.008933196887051893, 0.0070502462023186475, 0.016051612812317317, 0.012150923609675155, 0.0063019218751509485, 0.01629151727280643, 0.01695736114467804, 0.012000038933966353, 0.009206437234250011, 0.011202480311269438, 0.013994992799023406, 0.011799847962186775, 0.014326321301141774, 0.013760841701230177, 0.01763381802160395, 0.011249096258376015, 0.005690863421990195, 0.01873392527496699, 0.0019362884448189564, 0.005114133524961564, 0.0021429785562565684, 0.0033428118674462956, 0.0057131500444549685, 0.013564777909076245, 0.011669635984390888, 0.018641956758558228, 0.011164609844701327, 0.007599892125084209, 0.011780704250941392, 0.010373868616585605, 0.009885902115932483, 0.012552742248561463, 0.016828651406792648, 0.00827427749566258, 0.003159098432816185, 0.013747216524659765, 0.011668471516184583, 0.01633330551083879, 0.01907012738582866]\n",
      "all_prob_of_sel=[0.006556253676505188, 0.019389989418376535, 0.009602484108890471, 0.011942842607503524, 0.015450940691318363, 0.018000725941095645, 0.0, 0.006019266100646252, 0.009874840093915168, 0.002795485621119186, 0.012542769521056783, 0.02109441329388157, 0.024232817263171478, 0.015044932023554053, 0.004079956247878987, 0.003978974343192322, 0.0, 0.0, 0.0, 0.0, 0.013813819344205431, 0.011067505126705672, 0.0, 0.0, 0.011712948771396168, 0.004376722203430329, 0.0, 0.0209881831107702, 0.0028976343062234217, 0.02391861042791851, 0.0, 0.008834477212766851, 0.0, 0.015435581793929239, 0.005668886530390018, 0.0, 0.0, 0.0, 0.0, 0.0, 0.0, 0.011371992129103153, 0.006748305419560162, 0.01064885606796917, 0.0, 0.0, 0.0, 0.0, 0.0, 0.0, 0.0, 0.013365130827480193, 0.014462327570741196, 0.013094561887034928, 0.0, 0.005380922637082553, 0.005403922776258037, 0.0, 0.009588067067161771, 0.007686531023385084, 0.00586096555754033, 0.0, 0.013152788616135919, 0.0, 0.006267459036670763, 0.005355627986248372, 0.01560499466520709, 0.006299460522230093, 0.010447652939675981, 0.0150464812627836, 0.0, 0.0, 0.0, 0.0, 0.0, 0.016488510526902988, 0.0, 0.005287388232548592, 0.0164826450239935, 0.0035693225831918453, 0.01295543883260622, 0.0, 0.0, 0.0, 0.009330796716328322, 0.0, 0.010502692020004261, 0.0, 0.006381605048325341, 0.0, 0.0001593353267181556, 0.0, 0.0, 0.013704959900543644, 0.0, 0.007186729062024977, 0.0023135269501792744, 0.0016639875349363726, 0.020952154622199185, 0.0, 0.0, 0.005909696566393332, 0.0026240930199269655, 0.0, 0.005889679877528956, 0.0, 0.0, 0.0, 0.0, 0.0, 0.005112663442701725, 0.007592942665961467, 0.0, 0.011899118463012774, 0.0, 0.013708008468485241, 0.0025684402220841024, 0.0, 0.0, 0.0, 0.0, 0.015881263621565445, 0.008478212717294058, 0.0, 0.0, 0.02137564982734259, 0.0, 0.0, 0.001552713608426982, 0.0, 0.018356672803361753, 0.008731810898878731, 0.0016936568333834584, 0.0, 0.0006102891155802311, 0.0, 0.0, 0.010506138217750925, 0.0, 0.008528056581347105, 0.009627094405608626, 0.007251843047177507, 0.0049744659758205224, 0.017151254737540943, 0.005283962351859976, 0.0, 0.0, 0.0, 0.0, 0.002434401548486067, 0.0, 0.0, 0.006547638926671914, 0.022119113194900814, 0.019003325268603707, 0.0, 0.0, 0.020619049720502235, 0.0, 0.0056135750296796875, 0.007054690170365234, 0.0, 0.0, 0.0, 0.0, 0.0, 0.007184196383476403, 0.0, 0.013343983018898997, 0.0, 0.017754081039922223, 0.011600076591210845, 0.0, 0.0, 0.0, 0.0053414713994690355, 0.0, 0.022564924653178414, 0.0, 0.0008669028084730805, 0.0, 0.0, 0.0, 0.0, 0.009610988441836298, 0.0, 0.01454645590926899, 0.0, 0.0, 0.0021521140814522973, 0.005272515247486604, 0.0, 0.00253340961331586, 0.006443159331155418, 0.0, 0.0, 0.0, 0.0, 0.0, 0.0]\n"
     ]
    }
   ],
   "source": [
    "#now it will be a bit abstract...\n",
    "#This is monte-carlo again.\n",
    "#we will generate a series of probability that each individual in the current population will be selected\n",
    "#we will generate another series of random number between 0 to 1, with the length equals the size of population before mutation happens\n",
    "#then, without doing any sorting, we start from the first element in the current population, substract its select_probability from this round of random number\n",
    "#until 0 or negative\n",
    "#the last number that causes it cross 0 will be selected.\n",
    "\n",
    "#here's an example\n",
    "initial_size_of_population = 100\n",
    "size_of_population_after_mutation = 200\n",
    "\n",
    "#this is an imaginary series of probability to select each individual, in practice it will be the normalised fitness\n",
    "imagine_probability_of_selection = np.random.rand(size_of_population_after_mutation)\n",
    "imagine_probability_of_selection = imagine_probability_of_selection/np.sum(imagine_probability_of_selection)\n",
    "\n",
    "\n",
    "print(f\"{imagine_probability_of_selection=}\")\n",
    "\n",
    "#now we generate another series of lucky numbers, with the size of initial population\n",
    "lucky_numbers = np.random.rand(initial_size_of_population)\n",
    "print(f\"{lucky_numbers=}\")\n",
    "\n",
    "#now we will select the subset as the initial population for the next generation\n",
    "selected_kid_id = []\n",
    "selected_kid_prob = []\n",
    "\n",
    "all_prob_of_sel = list(imagine_probability_of_selection.copy())\n",
    "\n",
    "#This version: all_prob_of_sel needs to be updated every cycle,\n",
    "#i.e., the selected child will be removed from the parent+children pool\n",
    "\n",
    "#we didn't pass the initial chromosome info in this function but we can get the id of selected child instead\n",
    "#later on this can be envelopped into a class to make the interaction with other function/variables easier.\n",
    "\n",
    "#remember after each selection, we need to update the probability of remaining species to renoramlise it to one\n",
    "\n",
    "for lucky_number in lucky_numbers:    \n",
    "    \n",
    "    for i, prob_to_select_this_kid in enumerate(all_prob_of_sel):\n",
    "        \n",
    "        if i in selected_kid_id:\n",
    "            pass\n",
    "        else:\n",
    "            lucky_number -= prob_to_select_this_kid\n",
    "            #the last kid that cause the lucky_number passing 0 is selected\n",
    "            if lucky_number < 0:\n",
    "                selected_kid_id.append(i)\n",
    "                selected_kid_prob.append(prob_to_select_this_kid)\n",
    "                \n",
    "                #renormalisation of the probability of the rest of kids\n",
    "                #removing a kid from the dataset without messing up the sequence would be a headache..\n",
    "                #my way is to update the just-selected probability to 0, and renormalise the whole probability list\n",
    "                all_prob_of_sel[i] = 0\n",
    "                all_prob_of_sel_array = np.asarray(all_prob_of_sel)\n",
    "                new_prob_sum = np.sum(all_prob_of_sel_array)\n",
    "                all_prob_of_sel_array = all_prob_of_sel_array/new_prob_sum\n",
    "                all_prob_of_sel = list(all_prob_of_sel_array)\n",
    "                \n",
    "                break\n",
    "\n",
    "print(f\"{selected_kid_id=}\")\n",
    "print(f\"{selected_kid_prob=}\")\n",
    "print(f\"{all_prob_of_sel=}\")\n",
    "\n",
    "    \n",
    "    \n"
   ]
  },
  {
   "cell_type": "code",
   "execution_count": 38,
   "id": "d8eb3361",
   "metadata": {},
   "outputs": [
    {
     "data": {
      "text/plain": [
       "1.0"
      ]
     },
     "execution_count": 38,
     "metadata": {},
     "output_type": "execute_result"
    }
   ],
   "source": [
    "sum(all_prob_of_sel)"
   ]
  },
  {
   "cell_type": "code",
   "execution_count": 67,
   "id": "0a7a3a12",
   "metadata": {},
   "outputs": [
    {
     "data": {
      "text/plain": [
       "<matplotlib.legend.Legend at 0x1dc6ec87df0>"
      ]
     },
     "execution_count": 67,
     "metadata": {},
     "output_type": "execute_result"
    },
    {
     "data": {
      "image/png": "[encoded data removed]",
      "text/plain": [
       "<Figure size 432x288 with 1 Axes>"
      ]
     },
     "metadata": {
      "needs_background": "light"
     },
     "output_type": "display_data"
    }
   ],
   "source": [
    "#now we have a look at the distribution of selected kid's probability compared to the situation before the selection start\n",
    "\n",
    "selected_kids_probs = np.asarray(selected_kid_prob)\n",
    "\n",
    "plt.hist(selected_kids_probs, bins = 50, alpha = 0.5, label = \"sel_prob\")\n",
    "# plt.hist(lucky_numbers, bins = 50, alpha = 0.5, label = \"lucky_number\")\n",
    "plt.hist(imagine_probability_of_selection, bins = 50, alpha = 0.5, label = \"prob_before_start\")\n",
    "plt.ylabel(\"count\")\n",
    "plt.legend()\n",
    "\n",
    "#we can see the sel_prob is expanding to double of the situation before starts\n",
    "#that make sense as we are updaing the probability of the whole population every time after removing an element\n",
    "#in total we are selecting 50% out of all, so the probability of remaining kids will gradually grow into the rescaled 1\n",
    "#i.e., doubled of the original 1\n",
    "\n",
    "#don't worry about the looks-very-low scale, remember their accumulated probability would need to be 1"
   ]
  },
  {
   "cell_type": "code",
   "execution_count": 56,
   "id": "0586b9f2",
   "metadata": {},
   "outputs": [],
   "source": [
    "#Now we apply the same method to the real chromosomes population\n",
    "\n",
    "def select(population, fitness, keep_frac = 0.5):\n",
    "    \"\"\"\n",
    "    population: list of current chromosomes\n",
    "    fitness: the function to calculate the fitness of each chromosome from the ideal chromosome\n",
    "    keep_frac: the fraction to be kept from current population, float from 0 to 1.\n",
    "    \"\"\"\n",
    "    \n",
    "    #first, workout the fitness of all chromosomes in the population\n",
    "    \n",
    "    all_fitnesses = []\n",
    "    for i, chrom in enumerate(population):\n",
    "        this_fitness = fitness(chrom)\n",
    "        all_fitnesses.append(this_fitness)\n",
    "    \n",
    "    #next, prepare for fitness normalisation, get the sum of all fitnesses\n",
    "    total_fitness = np.sum(all_fitnesses)\n",
    "    \n",
    "    #convert fitness to the probability to select each individual\n",
    "    select_prob = np.array(all_fitnesses)/total_fitness\n",
    "    \n",
    "    #summary of all results\n",
    "    pop_sel_map = {}\n",
    "\n",
    "    for i, chrom in enumerate(population):\n",
    "        pop_sel_map[chrom] = select_prob[i]\n",
    "    \n",
    "    #get all parameters\n",
    "    all_param_map = {\n",
    "        \"chromosome\":population,\n",
    "        \"fitness\" : all_fitnesses,\n",
    "        \"select_prob\" : select_prob\n",
    "    }\n",
    "    \n",
    "    #the selection process\n",
    "    \n",
    "    #the size of selected population is determined by the current size of population multiplied by keep_frac\n",
    "    next_gen_pop_size = int(len(population)*keep_frac)\n",
    "    \n",
    "    #generate a series of random number to represent the position each time when the wheel stops\n",
    "    lucky_numbers = np.random.rand(next_gen_pop_size)\n",
    "    \n",
    "    #key things in the selection cycle:\n",
    "    #all_prob_of_sel will be updated every cycle,\n",
    "    #the selected child will be removed from the parent+children pool\n",
    "    \n",
    "    #to avoid risky overwrite on original data, we don't directly modify the current population pool\n",
    "    #instead, we will return a selected kids by their ids\n",
    "    \n",
    "    #initialise selected kids repo\n",
    "    selected_kid_id = []\n",
    "    #optional\n",
    "    selected_kid_chrom = []\n",
    "    selected_kid_fitness = []\n",
    "    \n",
    "    #we will also make a copy of the initial select_prob, this real_time_sel_prob will be updated by renormalisation\n",
    "    #as discussed before..\n",
    "    real_time_sel_prob = all_param_map[\"select_prob\"].copy()\n",
    "\n",
    "    for lucky_number in lucky_numbers:    \n",
    "\n",
    "        for i, prob_to_select_this_kid in enumerate(real_time_sel_prob):\n",
    "\n",
    "            if i in selected_kid_id:\n",
    "                pass\n",
    "            else:\n",
    "                lucky_number -= prob_to_select_this_kid\n",
    "                #the last kid that cause the lucky_number passing 0 is selected\n",
    "                if lucky_number < 0:\n",
    "                    \n",
    "                    #select\n",
    "                    \n",
    "                    #get kid id\n",
    "                    selected_kid_id.append(i)\n",
    "                    #optional\n",
    "                    selected_kid_chrom.append(all_param_map[\"chromosome\"][i])\n",
    "                    selected_kid_fitness.append(all_param_map[\"fitness\"][i])\n",
    "                    \n",
    "                    #update\n",
    "                    real_time_sel_prob[i] = 0\n",
    "                    real_time_sel_prob_array = np.asarray(real_time_sel_prob)\n",
    "                    new_prob_sum = np.sum(real_time_sel_prob_array)\n",
    "                    real_time_sel_prob_array = real_time_sel_prob_array/new_prob_sum\n",
    "                    real_time_sel_prob = list(real_time_sel_prob_array)\n",
    "\n",
    "                    break\n",
    "    \n",
    "    \n",
    "    #organise the results\n",
    "    sel_results = {\n",
    "        \"selected_kid_id\" : selected_kid_id,\n",
    "        \"selected_kid_fitness\" : np.asarray(selected_kid_fitness),\n",
    "        \"final_sel_prob\" : np.asarray(real_time_sel_prob),\n",
    "        \"lucky_numbers\" : lucky_numbers\n",
    "    }\n",
    "    \n",
    "    return sel_results, all_param_map"
   ]
  },
  {
   "cell_type": "code",
   "execution_count": 70,
   "id": "10f62de6",
   "metadata": {},
   "outputs": [],
   "source": [
    "pop_size = 100\n",
    "population = generate_population(length, pop_size)\n",
    "#the ideal is also defined by a random sequence before\n",
    "sel_results, all_param_map = select(population, get_fitness(ideal))"
   ]
  },
  {
   "cell_type": "code",
   "execution_count": 71,
   "id": "e95a5715",
   "metadata": {},
   "outputs": [
    {
     "data": {
      "text/plain": [
       "<matplotlib.legend.Legend at 0x1dc6ee05e50>"
      ]
     },
     "execution_count": 71,
     "metadata": {},
     "output_type": "execute_result"
    },
    {
     "data": {
      "image/png": "[encoded data removed]",
      "text/plain": [
       "<Figure size 432x288 with 1 Axes>"
      ]
     },
     "metadata": {
      "needs_background": "light"
     },
     "output_type": "display_data"
    }
   ],
   "source": [
    "#now we check the distribution of selected kids fitness\n",
    "plt.hist(sel_results[\"selected_kid_fitness\"], bins = 25, alpha = 0.5, label = \"sel_fitness\")\n",
    "# plt.hist(lucky_numbers, bins = 50, alpha = 0.5, label = \"lucky_number\")\n",
    "# plt.hist(sel_results[\"final_sel_prob\"], bins = 25, alpha = 0.5, label = \"sel_prob\")\n",
    "# plt.hist(all_param_map[\"select_prob\"], bins = 25, alpha = 0.5, label = \"prob_before_start\")\n",
    "plt.xlim(0, 1)\n",
    "plt.ylabel(\"count\")\n",
    "plt.legend()"
   ]
  },
  {
   "cell_type": "markdown",
   "id": "4abdb16d",
   "metadata": {},
   "source": [
    "## Magic time!\n",
    "\n",
    "The basic procedure has been completed, but our samples were generated randomly, so the selected species are all centred at 0.5 and roughly follows a normal distribution.\n",
    "\n",
    "In reality, we expect the population contains a few high quality species that we want to pick them out.\n",
    "\n",
    "Let's test if this algorithm would work or not...\n",
    "\n",
    "We will have an extreme ideal case ```ext_ideal```, which is a perfect series of 1.\n",
    "\n",
    "Then, we manually induce 10% high quality species, by changing less than 10% digits to 0.\n",
    "\n",
    "If we recall the idea of ```fitness```, these 10% species would give us a really high (> 0.9) fitness score compared to others.\n",
    "\n",
    "See if we can use the algorithm above to pick out the majority of these high quality species."
   ]
  },
  {
   "cell_type": "code",
   "execution_count": 88,
   "id": "2bcd8b1f",
   "metadata": {},
   "outputs": [
    {
     "data": {
      "text/plain": [
       "'1111111111111111111111111111111111111111111111111111111111111111111111111111111111111111111111111111'"
      ]
     },
     "execution_count": 88,
     "metadata": {},
     "output_type": "execute_result"
    }
   ],
   "source": [
    "#what if we have an extreme version of \"ideal\"\n",
    "#let's say\n",
    "\n",
    "ext_ideal = length * \"1\"\n",
    "ext_ideal"
   ]
  },
  {
   "cell_type": "code",
   "execution_count": 89,
   "id": "d2838a20",
   "metadata": {},
   "outputs": [
    {
     "name": "stdout",
     "output_type": "stream",
     "text": [
      "high_quality_population=['1111111111111111111111111111111111111111111111111111111111111111111111111111111111111111111111111111', '1111111111111111111111111111111111111111111111111111111111111111111111111111111111111111111111111110', '1111111111111111111111111111111111111111111111111111111111111111111111111111111111111111111111111100', '1111111111111111111111111111111111111111111111111111111111111111111111111111111111111111111111111000', '1111111111111111111111111111111111111111111111111111111111111111111111111111111111111111111111110000', '1111111111111111111111111111111111111111111111111111111111111111111111111111111111111111111111100000', '1111111111111111111111111111111111111111111111111111111111111111111111111111111111111111111111000000', '1111111111111111111111111111111111111111111111111111111111111111111111111111111111111111111110000000', '1111111111111111111111111111111111111111111111111111111111111111111111111111111111111111111100000000', '1111111111111111111111111111111111111111111111111111111111111111111111111111111111111111111000000000']\n"
     ]
    }
   ],
   "source": [
    "#and we manually add a few high-quality species to our populations\n",
    "\n",
    "#first, randomly generate a batch of general poluation\n",
    "population_with_general_quality = generate_population(length, 90)\n",
    "\n",
    "#create a few high quality species that is expected to give good fitness score with our extreme ideal species\n",
    "high_quality_population = []\n",
    "for i in range(10):\n",
    "    high_quality_species = \"1\"*(length - i) + \"0\" * i\n",
    "    high_quality_population.append(high_quality_species)\n",
    "\n",
    "print(f\"{high_quality_population=}\")\n",
    "\n",
    "#combine it to the general quality population\n",
    "population_with_good_quality = population_with_general_quality+high_quality_population"
   ]
  },
  {
   "cell_type": "code",
   "execution_count": 90,
   "id": "7ba48938",
   "metadata": {},
   "outputs": [
    {
     "name": "stdout",
     "output_type": "stream",
     "text": [
      "percent_of_high_quality_species_selected=0.8\n"
     ]
    },
    {
     "data": {
      "image/png": "[encoded data removed]",
      "text/plain": [
       "<Figure size 432x288 with 1 Axes>"
      ]
     },
     "metadata": {
      "needs_background": "light"
     },
     "output_type": "display_data"
    }
   ],
   "source": [
    "sel_results, all_param_map = select(population_with_good_quality, get_fitness(ext_ideal))\n",
    "plt.hist(sel_results[\"selected_kid_fitness\"], bins = 25, alpha = 0.5, label = \"sel_fitness\")\n",
    "# plt.hist(lucky_numbers, bins = 50, alpha = 0.5, label = \"lucky_number\")\n",
    "# plt.hist(sel_results[\"final_sel_prob\"], bins = 25, alpha = 0.5, label = \"sel_prob\")\n",
    "# plt.hist(all_param_map[\"select_prob\"], bins = 25, alpha = 0.5, label = \"prob_before_start\")\n",
    "plt.xlim(0, 1)\n",
    "plt.ylabel(\"count\")\n",
    "plt.legend()\n",
    "\n",
    "#we expect to see a few bins appearing at the region close to one\n",
    "\n",
    "#We can also check how many of our manually created high quality species (id should = 89 to 99) were selected:\n",
    "\n",
    "total_high_quality_species = 10\n",
    "\n",
    "count_of_high_quality_species = 0\n",
    "for i in range(89, 100):\n",
    "    \n",
    "    if i in sel_results[\"selected_kid_id\"]:\n",
    "        count_of_high_quality_species += 1\n",
    "\n",
    "percent_of_high_quality_species_selected = count_of_high_quality_species/total_high_quality_species\n",
    "\n",
    "print(f\"{percent_of_high_quality_species_selected=}\")"
   ]
  },
  {
   "cell_type": "markdown",
   "id": "583c1af7",
   "metadata": {},
   "source": [
    "If we run the previous cells a few more times, they should give us a similar outcome and every time a high percent of our good quality species can be selected out.\n",
    "\n",
    "We can of course modify the distribution a bit more extreme by modifying the ```good_frac``` parameter.\n",
    "\n",
    "As ```good_frac``` increases, we expect to see higher distribution on the close-to-one region on the fitness count plot."
   ]
  },
  {
   "cell_type": "code",
   "execution_count": 127,
   "id": "5a94011a",
   "metadata": {},
   "outputs": [],
   "source": [
    "def gen_pop_with_high_quality(length, total_size, good_frac = 0.3):\n",
    "    \n",
    "    general_pop_size = int(total_size*(1-good_frac))\n",
    "    population_with_general_quality = generate_population(length, general_pop_size)\n",
    "    \n",
    "    high_quality_pop_size = total_size - general_pop_size\n",
    "    high_quality_population = []\n",
    "    for i in range(high_quality_pop_size):\n",
    "        high_quality_species = \"1\"*(length - i) + \"0\" * i\n",
    "        high_quality_population.append(high_quality_species)\n",
    "    \n",
    "    population_with_good_quality = population_with_general_quality+high_quality_population\n",
    "    return population_with_good_quality"
   ]
  },
  {
   "cell_type": "code",
   "execution_count": 137,
   "id": "3641be96",
   "metadata": {},
   "outputs": [],
   "source": [
    "total_size = 100\n",
    "good_frac = 0.6\n",
    "population_with_good_quality = gen_pop_with_high_quality(length, total_size, good_frac)"
   ]
  },
  {
   "cell_type": "code",
   "execution_count": 138,
   "id": "f019b47d",
   "metadata": {},
   "outputs": [
    {
     "data": {
      "text/plain": [
       "<matplotlib.legend.Legend at 0x1dc707e61f0>"
      ]
     },
     "execution_count": 138,
     "metadata": {},
     "output_type": "execute_result"
    },
    {
     "data": {
      "image/png": "[encoded data removed]",
      "text/plain": [
       "<Figure size 432x288 with 1 Axes>"
      ]
     },
     "metadata": {
      "needs_background": "light"
     },
     "output_type": "display_data"
    }
   ],
   "source": [
    "sel_results, all_param_map = select(population_with_good_quality, get_fitness(ext_ideal))\n",
    "plt.hist(sel_results[\"selected_kid_fitness\"], bins = 25, alpha = 0.5, label = \"sel_fitness\")\n",
    "plt.xlim(0, 1)\n",
    "plt.ylabel(\"count\")\n",
    "plt.legend()"
   ]
  },
  {
   "cell_type": "code",
   "execution_count": 139,
   "id": "84f9fb68",
   "metadata": {},
   "outputs": [
    {
     "name": "stdout",
     "output_type": "stream",
     "text": [
      "percent_of_high_quality_species_selected=0.5833333333333334\n"
     ]
    }
   ],
   "source": [
    "total_high_quality_species = total_size - int(total_size*(1-good_frac))\n",
    "\n",
    "count_of_high_quality_species = 0\n",
    "for i in range(total_size - total_high_quality_species-1, total_size):\n",
    "    \n",
    "    if i in sel_results[\"selected_kid_id\"]:\n",
    "        count_of_high_quality_species += 1\n",
    "\n",
    "percent_of_high_quality_species_selected = count_of_high_quality_species/total_high_quality_species\n",
    "\n",
    "print(f\"{percent_of_high_quality_species_selected=}\")"
   ]
  },
  {
   "cell_type": "code",
   "execution_count": 140,
   "id": "158617c1",
   "metadata": {},
   "outputs": [],
   "source": [
    "# The next step we will iterate through the whole step..."
   ]
  },
  {
   "cell_type": "markdown",
   "id": "7290b9df",
   "metadata": {},
   "source": [
    "## Future comments:\n",
    "\n",
    "A few mysteries to further think about are:\n",
    "\n",
    "1) What is the ```ideal``` in real life?\n",
    "\n",
    "The optimal of the investigated problem.\n",
    "\n",
    "2) What is the form of ```fitness``` function?\n",
    "\n",
    "Could be similar to the concept ot acquisition function in BO.\n",
    "\n",
    "3) How to determine the size of seleted subset (kids to be passed as the parents of the next generation)?\n",
    "\n",
    "Mutate and crossover will double the size of parent population, but how many should be kept in the selection cycle?\n",
    "\n",
    "4) Do we need to remove the good quality kids after selected?\n",
    "\n",
    "Shall we let good quality species crossover with themselves, as possible?\n",
    "\n",
    "5) Where does the initial population come from?\n",
    "\n",
    "How random should we randomly prepare the initial batch of samples?\n",
    "\n",
    "6) Where is the cut point of the mutation and when to stop mutation and crossover?\n",
    "\n",
    "There should be a few iteration cycles until we find the optimal, and we need to consider both the mutation rate, fraction, and termination criteria."
   ]
  },
  {
   "cell_type": "markdown",
   "id": "d53efa15",
   "metadata": {},
   "source": [
    "And there is a nice reveiw paper discussed more details: https://link.springer.com/article/10.1007/s11042-020-10139-6"
   ]
  },
  {
   "cell_type": "code",
   "execution_count": null,
   "id": "4b351dc2",
   "metadata": {},
   "outputs": [],
   "source": []
  }
 ],
 "metadata": {
  "kernelspec": {
   "display_name": "Python 3 (ipykernel)",
   "language": "python",
   "name": "python3"
  },
  "language_info": {
   "codemirror_mode": {
    "name": "ipython",
    "version": 3
   },
   "file_extension": ".py",
   "mimetype": "text/x-python",
   "name": "python",
   "nbconvert_exporter": "python",
   "pygments_lexer": "ipython3",
   "version": "3.9.12"
  }
 },
 "nbformat": 4,
 "nbformat_minor": 5
}
