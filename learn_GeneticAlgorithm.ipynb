{
 "cells": [
  {
   "cell_type": "markdown",
   "id": "8e3d310c",
   "metadata": {},
   "source": [
    "This notebook is to go through basic procedures of genetic algorithm (GA).\n",
    "\n",
    "References:\n",
    "\n",
    "https://machinelearningmastery.com/simple-genetic-algorithm-from-scratch-in-python/, \n",
    "\n",
    "https://www.codewars.com/kata/567d609f1c16d7369c000008"
   ]
  },
  {
   "cell_type": "markdown",
   "id": "88f08d3f",
   "metadata": {},
   "source": [
    "## Step 1: \n",
    "\n",
    "https://www.codewars.com/kata/567d609f1c16d7369c000008\n",
    "\n",
    "A genetic algorithm is based in groups of chromosomes, called populations. To start our population of chromosomes we need to generate random binary strings with a specified length.\n",
    "\n",
    "In this kata you have to implement a function ```generate``` that receives a ```length``` and has to return a random binary string with length characters.\n",
    "\n",
    "(In practice, any real-life input will be first converted into a bit string, which is another big topic and we will touch it later...)"
   ]
  },
  {
   "cell_type": "code",
   "execution_count": 1,
   "id": "840c2f11",
   "metadata": {},
   "outputs": [],
   "source": [
    "import numpy as np"
   ]
  },
  {
   "cell_type": "code",
   "execution_count": 2,
   "id": "fc769b73",
   "metadata": {},
   "outputs": [],
   "source": [
    "#we use ranint to randomly generate 0 or 1\n",
    "dig_series_text = str(np.random.randint(0, 2, size = 4))"
   ]
  },
  {
   "cell_type": "code",
   "execution_count": 3,
   "id": "70f208e2",
   "metadata": {},
   "outputs": [],
   "source": [
    "dig_series_no_bracket = dig_series_text[1:-1]"
   ]
  },
  {
   "cell_type": "code",
   "execution_count": 4,
   "id": "e9ce293c",
   "metadata": {},
   "outputs": [],
   "source": [
    "def generate(length:int):\n",
    "    \"\"\"\n",
    "    example, length = 4, return a random series with 4 bits, for example, 1000, 1001, ..., 1111\n",
    "    note that this randint is returning a np.ndarray, if directly convert to string, it will contain space and brackets..\n",
    "    \"\"\"\n",
    "    dig_array = np.random.randint(0, 2, size = length)\n",
    "    dig_series_text = str(dig_array)[1:-1].replace(\" \", \"\").replace(\"\\n\", \"\")\n",
    "    \n",
    "    return dig_series_text"
   ]
  },
  {
   "cell_type": "code",
   "execution_count": 5,
   "id": "9e9a1800",
   "metadata": {},
   "outputs": [
    {
     "data": {
      "text/plain": [
       "'0001100010010111111011101110000100111110101111001010000100000111111101010001001101111100001000101110'"
      ]
     },
     "execution_count": 5,
     "metadata": {},
     "output_type": "execute_result"
    }
   ],
   "source": [
    "#example of step 1\n",
    "generate(100)"
   ]
  },
  {
   "cell_type": "markdown",
   "id": "14e60dd2",
   "metadata": {},
   "source": [
    "## Step 2 Mutation\n",
    "\n",
    "https://www.codewars.com/kata/genetic-algorithm-series-number-2-mutation\n",
    "\n",
    "Mutation is a genetic operator used to maintain genetic diversity from one generation of a population of genetic algorithm chromosomes to the next.\n",
    "\n",
    "For example, 1 to 0 or 0 to 1, with a given probability.\n",
    "\n",
    "The \"chromosomes\" mentioned in the question refers to the ```dig_series_text``` returned in the ```generate``` step.\n",
    "\n",
    "\n",
    "We use the philosophy of monte-carlo (reject/accept regime) here:\n",
    "\n",
    "- Generate a random number between 0 and 1.\n",
    "- For a given probability ```prob```, if the random number is below this probability, accept the change (i.e., mutate); otherwise, reject the change (i.e., remain)."
   ]
  },
  {
   "cell_type": "code",
   "execution_count": 6,
   "id": "9df1b206",
   "metadata": {},
   "outputs": [],
   "source": [
    "mutate_rule = {\n",
    "    '0' : '1',\n",
    "    '1' : '0'\n",
    "}\n",
    "\n",
    "\n",
    "def mutation(chrom:str, prob:float) -> str:\n",
    "    \"\"\"\n",
    "    prob is the probability for a given chromosomes, i.e., '0' or '1', to mutate into the opposite.\n",
    "    \"\"\"\n",
    "    dig_series_after_mutate = []\n",
    "    for dig_text in chrom:\n",
    "        #convert text to int\n",
    "        dig = int(dig_text)\n",
    "        \n",
    "        #generate a random number to compare with acceptance threshold. i.e., prob\n",
    "        mutate_this_dig = np.random.rand()\n",
    "        if mutate_this_dig < prob:\n",
    "            dig_series_after_mutate.append(mutate_rule[dig_text])\n",
    "        #else remain same\n",
    "        else:\n",
    "            dig_series_after_mutate.append(dig_text)\n",
    "    \n",
    "    mutated_chrom = \"\".join(dig_series_after_mutate)\n",
    "    return mutated_chrom"
   ]
  },
  {
   "cell_type": "code",
   "execution_count": 7,
   "id": "231aec8d",
   "metadata": {},
   "outputs": [
    {
     "name": "stdout",
     "output_type": "stream",
     "text": [
      "original chromosomes:\n",
      " 0100110110001000100111101101001101110001001010100000011100000111101111001111001011010010000111001010.\n",
      "\n",
      "mutated chromosomes:\n",
      " 0000110100001010100100011110011000000100000000110101001001110011111010010001100010111110111101011000.\n",
      "\n"
     ]
    }
   ],
   "source": [
    "length = 100\n",
    "prob = 0.5\n",
    "chrom = generate(length)\n",
    "print(f\"original chromosomes:\\n {chrom}.\\n\")\n",
    "mutated_chrom = mutation(chrom, prob)\n",
    "print(f\"mutated chromosomes:\\n {mutated_chrom}.\\n\")"
   ]
  },
  {
   "cell_type": "markdown",
   "id": "51a38d1a",
   "metadata": {},
   "source": [
    "## Step 3 Crossover\n",
    "\n",
    "https://www.codewars.com/kata/genetic-algorithm-series-number-3-crossover\n",
    "\n",
    "In genetic algorithms, crossover is a genetic operator used to vary the programming of chromosomes from one generation to the next.\n",
    "\n",
    "The one-point crossover consists in swapping one's chromosome part with another in a specific given point/cut point (```index```). \n",
    "\n",
    "For example, the cut point index is set as 4, a chromosome 1 \"10101111\" and a chromosome 2 \"11011001\" will be cut after the 4th digit (0), and everything after the 4th digit will be swapped with each other, yielding [chromosome 3, chromosome 4]:  [\"10101001\", \"11011111\"]."
   ]
  },
  {
   "cell_type": "code",
   "execution_count": 8,
   "id": "94363f16",
   "metadata": {},
   "outputs": [],
   "source": [
    "def crossover(chrom_1, chrom_2, cut_point_index):\n",
    "    chrom_3_list = []\n",
    "    chrom_4_list = []\n",
    "    for i in range(len(chrom_1)):\n",
    "        if i < cut_point_index:\n",
    "            chrom_3_list.append(chrom_1[i])\n",
    "            chrom_4_list.append(chrom_2[i])\n",
    "        else:\n",
    "            chrom_3_list.append(chrom_2[i])\n",
    "            chrom_4_list.append(chrom_1[i])\n",
    "    chrom_3 = \"\".join(chrom_3_list)\n",
    "    chrom_4 = \"\".join(chrom_4_list)\n",
    "    return chrom_3, chrom_4\n",
    "    "
   ]
  },
  {
   "cell_type": "code",
   "execution_count": 9,
   "id": "a14f4cce",
   "metadata": {},
   "outputs": [
    {
     "name": "stdout",
     "output_type": "stream",
     "text": [
      "chrom_1='1111000011110101010110111011001000001000001111001010100001110101101011011101010000011011100010001011',\n",
      "chrom_2='1111101000100010100010010010100011111010100011000101000111111111110010001111010000001001011000100001',\n",
      "chrom_3='1111000011100010100010010010100011111010100011000101000111111111110010001111010000001001011000100001',\n",
      "chrom_4='1111101000110101010110111011001000001000001111001010100001110101101011011101010000011011100010001011'\n",
      "\n"
     ]
    }
   ],
   "source": [
    "chrom_1 = mutation(generate(length), prob)\n",
    "chrom_2 = mutation(generate(length), prob)\n",
    "\n",
    "cut_point_index = 10\n",
    "\n",
    "chrom_3, chrom_4 = crossover(chrom_1, chrom_2, cut_point_index)\n",
    "\n",
    "print(f\"{chrom_1=},\\n{chrom_2=},\\n{chrom_3=},\\n{chrom_4=}\\n\")"
   ]
  },
  {
   "cell_type": "markdown",
   "id": "da02c11c",
   "metadata": {},
   "source": [
    "## Step 4 Get population and fitness\n",
    "\n",
    "https://www.codewars.com/kata/genetic-algorithm-series-number-4-get-population-and-fitnesses\n",
    "\n",
    "This step will compare the difference between the given chromosome with the ```ideal``` situation, quantified by a ```fitness``` function.\n",
    "\n",
    "The ```fitness``` function is another big topic related to how to properly optimise the outcome.. Here we use the given example in the codewars keta.\n",
    "\n",
    "```fitness``` can reflect the quality of individual. \n",
    "\n",
    "For example, fitness between 0.8 to 1 means this chromosome is very healthy and very likely to survive, thus it shares the largest portion of roulette wheel, i.e., largest probability to survive (56% for example).\n",
    "\n",
    "Fitness between 0.4 to 0.8 means this chromosome is okay to live to, let's say, average life span, so second large portion of the wheel...\n",
    "\n",
    "Fitness between 0.2 to 0.4 means this chromosome is not likely to survive till adulthood, maybe only a few percentage.\n",
    "\n",
    "Fitness below 0.2 means, very likely, this chromosome cannot even develop into an embryo, perhaps smaller than 1%."
   ]
  },
  {
   "cell_type": "code",
   "execution_count": 10,
   "id": "7f6b44ce",
   "metadata": {},
   "outputs": [
    {
     "name": "stdout",
     "output_type": "stream",
     "text": [
      "ideal='0111000000000011001101101010011101010011011010010010100011011100100101010111001011111000110111110101'\n",
      "\n"
     ]
    }
   ],
   "source": [
    "ideal = generate(length)\n",
    "print(f\"{ideal=}\\n\")"
   ]
  },
  {
   "cell_type": "code",
   "execution_count": 11,
   "id": "189ef331",
   "metadata": {},
   "outputs": [],
   "source": [
    "def get_fitness(ideal):\n",
    "    def fitness(test):\n",
    "        \"\"\"\n",
    "        test is the test chromosome to compare with the ideal chromosome\n",
    "        the similarity/fitness between test and ideal is quantified by calculating how many digits match with each other\n",
    "        \"\"\"\n",
    "        match_record = 0\n",
    "        for i, base in enumerate(test):\n",
    "            if base == ideal[i]:\n",
    "                match_record += 1\n",
    "        this_fitness = float(match_record/len(ideal))\n",
    "        return this_fitness\n",
    "    return fitness\n",
    "    \n",
    "\n",
    "def generate_population(length, pop_size):\n",
    "    \"\"\"\n",
    "    generate pop_size chromosomoes with given length\n",
    "    \"\"\"\n",
    "    population = []\n",
    "    for i in range(pop_size):\n",
    "        population.append(generate(length))\n",
    "    return population\n"
   ]
  },
  {
   "cell_type": "code",
   "execution_count": 12,
   "id": "954aef5f",
   "metadata": {},
   "outputs": [
    {
     "name": "stdout",
     "output_type": "stream",
     "text": [
      "population=['0101010100100111100100010111110110101110010111000100100001111111000110110010101100011010010100110001', '0101000100111000010011011111001101011011111111101100101100110101011100101101101110000110101001111011', '0001111011011100010010011000011100011110000111111010100100111001000010100000001100101111110001001010', '1111110111001000110100010001111000000111010100000110011000100001100011010100010001110010010110000001', '1000010000111111010110110101011000000001010001001010110000110000000101100011000100010110000001101011', '0000000110010010000100011100000101101000100010100011001111001110011011111101001001011001011101110000', '1001000010101010000100001110001101111001011010010010101011110110101000100010011111101101011010000111', '1111001110111101001000001110000110111100110111111110000011100101011101100001000111100100010110111100', '1001000001000111010011100100010101001000010001110000101001011110010011100000110101001000100110010011', '0110001111111101100000110110110100100111101111001111101001110001111011000111101001000011000111001110']\n",
      "\n"
     ]
    }
   ],
   "source": [
    "pop_size = 10\n",
    "population = generate_population(length, pop_size)\n",
    "print(f\"{population=}\\n\")"
   ]
  },
  {
   "cell_type": "code",
   "execution_count": 13,
   "id": "d15b6579",
   "metadata": {},
   "outputs": [],
   "source": [
    "def map_popluation_fit(population, fitness):\n",
    "    pop_fit_map = {}\n",
    "    for test in population:\n",
    "        this_fitness = fitness(test)\n",
    "        pop_fit_map[test] = this_fitness\n",
    "    return pop_fit_map\n",
    "        "
   ]
  },
  {
   "cell_type": "code",
   "execution_count": 14,
   "id": "166d1277",
   "metadata": {},
   "outputs": [
    {
     "data": {
      "text/plain": [
       "{'0101010100100111100100010111110110101110010111000100100001111111000110110010101100011010010100110001': 0.52,\n",
       " '0101000100111000010011011111001101011011111111101100101100110101011100101101101110000110101001111011': 0.45,\n",
       " '0001111011011100010010011000011100011110000111111010100100111001000010100000001100101111110001001010': 0.4,\n",
       " '1111110111001000110100010001111000000111010100000110011000100001100011010100010001110010010110000001': 0.48,\n",
       " '1000010000111111010110110101011000000001010001001010110000110000000101100011000100010110000001101011': 0.47,\n",
       " '0000000110010010000100011100000101101000100010100011001111001110011011111101001001011001011101110000': 0.53,\n",
       " '1001000010101010000100001110001101111001011010010010101011110110101000100010011111101101011010000111': 0.62,\n",
       " '1111001110111101001000001110000110111100110111111110000011100101011101100001000111100100010110111100': 0.5,\n",
       " '1001000001000111010011100100010101001000010001110000101001011110010011100000110101001000100110010011': 0.54,\n",
       " '0110001111111101100000110110110100100111101111001111101001110001111011000111101001000011000111001110': 0.44}"
      ]
     },
     "execution_count": 14,
     "metadata": {},
     "output_type": "execute_result"
    }
   ],
   "source": [
    "map_popluation_fit(population, get_fitness(ideal))"
   ]
  },
  {
   "cell_type": "markdown",
   "id": "e4f6a37d",
   "metadata": {},
   "source": [
    "## Step 5\n",
    "\n",
    "Ideally, we will now sort all the chromosomes according to the fitness.. but sortings things is expensive, especially if we have millions of populations.. (even the best sorting algorithm still needs $O(n\\log{n})$ complexity, and the implementation is not very straightforward).\n",
    "\n",
    "SO here we use monte-carlo again!\n",
    "\n",
    "The keta called it Roulette wheel (or Fitness Proportionate) selection.\n",
    "\n",
    "https://www.codewars.com/kata/genetic-algorithm-series-number-5-roulette-wheel-selection\n",
    "\n",
    "The basic idea is to set different levels of (discrete) probability thresholds, which matches with different quality of the species.\n",
    "\n",
    "Populations with the best fitnesses should cover the largest proportion.\n",
    "\n",
    "The probability to select each individual, $P_i = \\frac{f_i}{\\sum(f_i)}$\n",
    "\n",
    "and that is the function of ```select```"
   ]
  },
  {
   "cell_type": "code",
   "execution_count": 35,
   "id": "703a3515",
   "metadata": {},
   "outputs": [
    {
     "name": "stdout",
     "output_type": "stream",
     "text": [
      "imagine_probability_of_selection=array([0.29507784, 0.54147848, 0.54768894, 0.13900405, 0.58317341,\n",
      "       0.74317987, 0.66575978, 0.51237663, 0.08953776, 0.92297585,\n",
      "       0.50098437, 0.99866702, 0.15314452, 0.2996206 , 0.32400005,\n",
      "       0.90468154, 0.86174716, 0.02439504, 0.47103951, 0.45196782])\n",
      "lucky_numbers=array([0.24082017, 0.78222985, 0.89231747, 0.18615645, 0.14470749,\n",
      "       0.33715089, 0.37623694, 0.09227549, 0.2657694 , 0.9002774 ])\n",
      "selected_kid_id=[0, 2, 4, 1, 5, 6, 7, 3, 9, 11]\n",
      "selected_kid_prob=[0.29507784162554307, 0.5476889357934945, 0.5831734056314569, 0.5414784836363709, 0.7431798656768511, 0.6657597757465468, 0.5123766255153254, 0.13900405410459393, 0.9229758460549944, 0.9986670151061949]\n"
     ]
    }
   ],
   "source": [
    "#now it will be a bit abstract...\n",
    "#This is monte-carlo again.\n",
    "#we will generate a series of probability that each individual in the current population will be selected\n",
    "#we will generate another series of random number between 0 to 1, with the length equals the size of population before mutation happens\n",
    "#then, without doing any sorting, we start from the first element in the current population, substract its select_probability from this round of random number\n",
    "#until 0 or negative\n",
    "#the last number that causes it cross 0 will be selected.\n",
    "\n",
    "#here's an example\n",
    "initial_size_of_population = 10\n",
    "size_of_population_after_mutation = 20\n",
    "\n",
    "#this is an imaginary series of probability to select each individual, in practice it will be the normalised fitness\n",
    "imagine_probability_of_selection = np.random.rand(size_of_population_after_mutation)\n",
    "print(f\"{imagine_probability_of_selection=}\")\n",
    "\n",
    "#now we generate another series of lucky numbers, with the size of initial population\n",
    "lucky_numbers = np.random.rand(initial_size_of_population)\n",
    "print(f\"{lucky_numbers=}\")\n",
    "\n",
    "#now we will select the subset as the initial population for the next generation\n",
    "selected_kid_id = []\n",
    "selected_kid_prob = []\n",
    "\n",
    "all_prob_of_sel = list(imagine_probability_of_selection.copy())\n",
    "\n",
    "for lucky_number in lucky_numbers:    \n",
    "    \n",
    "    for i, prob_to_select_this_kid in enumerate(all_prob_of_sel):\n",
    "        \n",
    "        if i in selected_kid_id:\n",
    "            pass\n",
    "        else:\n",
    "            lucky_number -= prob_to_select_this_kid\n",
    "\n",
    "            if lucky_number < 0:\n",
    "                selected_kid_id.append(i)\n",
    "                selected_kid_prob.append(prob_to_select_this_kid)\n",
    "                \n",
    "                break\n",
    "\n",
    "print(f\"{selected_kid_id=}\")\n",
    "print(f\"{selected_kid_prob=}\")\n",
    "            \n",
    "        \n",
    "    \n",
    "    \n"
   ]
  },
  {
   "cell_type": "code",
   "execution_count": 29,
   "id": "950d8b33",
   "metadata": {},
   "outputs": [
    {
     "data": {
      "text/plain": [
       "[1, 3]"
      ]
     },
     "execution_count": 29,
     "metadata": {},
     "output_type": "execute_result"
    }
   ],
   "source": [
    "im_list = [1, 2, 3]\n",
    "im_list.pop(1)\n",
    "im_list\n"
   ]
  },
  {
   "cell_type": "code",
   "execution_count": 15,
   "id": "0586b9f2",
   "metadata": {},
   "outputs": [],
   "source": [
    "def select(population, fitness):\n",
    "    \n",
    "    #workout the fitness of all chromosomes in the population\n",
    "    \n",
    "    all_fitnesses = []\n",
    "    for i, chrom in enumerate(population):\n",
    "        this_fitness = fitness(chrom)\n",
    "        all_fitnesses.append(this_fitness)\n",
    "    \n",
    "    select_prob = []\n",
    "    \n",
    "    #prepare for fitness normalisation, get the sum of all fitnesses\n",
    "    total_fitness = np.sum(all_fitnesses)\n",
    "    select_prob = np.array(all_fitnesses)/total_fitness\n",
    "    \n",
    "    pop_sel_map = {}\n",
    "\n",
    "    \n",
    "    for i, chrom in enumerate(population):\n",
    "        pop_sel_map[chrom] = select_prob[i]\n",
    "    \n",
    "    #get all parameters\n",
    "    all_param_map = {\n",
    "        \"chromosome\":population,\n",
    "        \"fitness\" : all_fitnesses,\n",
    "        \"select_prob\" : select_prob\n",
    "    }\n",
    "    \n",
    "    #select the one by converting pdf to cdf\n",
    "    cum_select_prob = np.cumsum(select_prob)\n",
    "    #generate a random number to represent the position when the wheel stops\n",
    "    lucky_number = np.random.rand()\n",
    "    \n",
    "    \n",
    "    \n",
    "    \n",
    "    \n",
    "    return pop_sel_map, all_param_map"
   ]
  },
  {
   "cell_type": "code",
   "execution_count": null,
   "id": "d7e035f6",
   "metadata": {},
   "outputs": [],
   "source": []
  },
  {
   "cell_type": "code",
   "execution_count": 16,
   "id": "10f62de6",
   "metadata": {},
   "outputs": [],
   "source": [
    "pop_sel_map, all_param_map = select(population, get_fitness(ideal))"
   ]
  },
  {
   "cell_type": "code",
   "execution_count": 17,
   "id": "67209190",
   "metadata": {},
   "outputs": [
    {
     "data": {
      "text/plain": [
       "{'chromosome': ['0101010100100111100100010111110110101110010111000100100001111111000110110010101100011010010100110001',\n",
       "  '0101000100111000010011011111001101011011111111101100101100110101011100101101101110000110101001111011',\n",
       "  '0001111011011100010010011000011100011110000111111010100100111001000010100000001100101111110001001010',\n",
       "  '1111110111001000110100010001111000000111010100000110011000100001100011010100010001110010010110000001',\n",
       "  '1000010000111111010110110101011000000001010001001010110000110000000101100011000100010110000001101011',\n",
       "  '0000000110010010000100011100000101101000100010100011001111001110011011111101001001011001011101110000',\n",
       "  '1001000010101010000100001110001101111001011010010010101011110110101000100010011111101101011010000111',\n",
       "  '1111001110111101001000001110000110111100110111111110000011100101011101100001000111100100010110111100',\n",
       "  '1001000001000111010011100100010101001000010001110000101001011110010011100000110101001000100110010011',\n",
       "  '0110001111111101100000110110110100100111101111001111101001110001111011000111101001000011000111001110'],\n",
       " 'fitness': [0.52, 0.45, 0.4, 0.48, 0.47, 0.53, 0.62, 0.5, 0.54, 0.44],\n",
       " 'select_prob': array([0.10505051, 0.09090909, 0.08080808, 0.0969697 , 0.09494949,\n",
       "        0.10707071, 0.12525253, 0.1010101 , 0.10909091, 0.08888889])}"
      ]
     },
     "execution_count": 17,
     "metadata": {},
     "output_type": "execute_result"
    }
   ],
   "source": [
    "all_param_map"
   ]
  },
  {
   "cell_type": "code",
   "execution_count": 18,
   "id": "6bbe9ee4",
   "metadata": {},
   "outputs": [],
   "source": [
    "import pandas as pd"
   ]
  },
  {
   "cell_type": "code",
   "execution_count": 19,
   "id": "4b4a818c",
   "metadata": {},
   "outputs": [
    {
     "data": {
      "text/html": [
       "<div>\n",
       "<style scoped>\n",
       "    .dataframe tbody tr th:only-of-type {\n",
       "        vertical-align: middle;\n",
       "    }\n",
       "\n",
       "    .dataframe tbody tr th {\n",
       "        vertical-align: top;\n",
       "    }\n",
       "\n",
       "    .dataframe thead th {\n",
       "        text-align: right;\n",
       "    }\n",
       "</style>\n",
       "<table border=\"1\" class=\"dataframe\">\n",
       "  <thead>\n",
       "    <tr style=\"text-align: right;\">\n",
       "      <th></th>\n",
       "      <th>chromosome</th>\n",
       "      <th>fitness</th>\n",
       "      <th>select_prob</th>\n",
       "    </tr>\n",
       "  </thead>\n",
       "  <tbody>\n",
       "    <tr>\n",
       "      <th>0</th>\n",
       "      <td>0101010100100111100100010111110110101110010111...</td>\n",
       "      <td>0.52</td>\n",
       "      <td>0.105051</td>\n",
       "    </tr>\n",
       "    <tr>\n",
       "      <th>1</th>\n",
       "      <td>0101000100111000010011011111001101011011111111...</td>\n",
       "      <td>0.45</td>\n",
       "      <td>0.090909</td>\n",
       "    </tr>\n",
       "    <tr>\n",
       "      <th>2</th>\n",
       "      <td>0001111011011100010010011000011100011110000111...</td>\n",
       "      <td>0.40</td>\n",
       "      <td>0.080808</td>\n",
       "    </tr>\n",
       "    <tr>\n",
       "      <th>3</th>\n",
       "      <td>1111110111001000110100010001111000000111010100...</td>\n",
       "      <td>0.48</td>\n",
       "      <td>0.096970</td>\n",
       "    </tr>\n",
       "    <tr>\n",
       "      <th>4</th>\n",
       "      <td>1000010000111111010110110101011000000001010001...</td>\n",
       "      <td>0.47</td>\n",
       "      <td>0.094949</td>\n",
       "    </tr>\n",
       "    <tr>\n",
       "      <th>5</th>\n",
       "      <td>0000000110010010000100011100000101101000100010...</td>\n",
       "      <td>0.53</td>\n",
       "      <td>0.107071</td>\n",
       "    </tr>\n",
       "    <tr>\n",
       "      <th>6</th>\n",
       "      <td>1001000010101010000100001110001101111001011010...</td>\n",
       "      <td>0.62</td>\n",
       "      <td>0.125253</td>\n",
       "    </tr>\n",
       "    <tr>\n",
       "      <th>7</th>\n",
       "      <td>1111001110111101001000001110000110111100110111...</td>\n",
       "      <td>0.50</td>\n",
       "      <td>0.101010</td>\n",
       "    </tr>\n",
       "    <tr>\n",
       "      <th>8</th>\n",
       "      <td>1001000001000111010011100100010101001000010001...</td>\n",
       "      <td>0.54</td>\n",
       "      <td>0.109091</td>\n",
       "    </tr>\n",
       "    <tr>\n",
       "      <th>9</th>\n",
       "      <td>0110001111111101100000110110110100100111101111...</td>\n",
       "      <td>0.44</td>\n",
       "      <td>0.088889</td>\n",
       "    </tr>\n",
       "  </tbody>\n",
       "</table>\n",
       "</div>"
      ],
      "text/plain": [
       "                                          chromosome  fitness  select_prob\n",
       "0  0101010100100111100100010111110110101110010111...     0.52     0.105051\n",
       "1  0101000100111000010011011111001101011011111111...     0.45     0.090909\n",
       "2  0001111011011100010010011000011100011110000111...     0.40     0.080808\n",
       "3  1111110111001000110100010001111000000111010100...     0.48     0.096970\n",
       "4  1000010000111111010110110101011000000001010001...     0.47     0.094949\n",
       "5  0000000110010010000100011100000101101000100010...     0.53     0.107071\n",
       "6  1001000010101010000100001110001101111001011010...     0.62     0.125253\n",
       "7  1111001110111101001000001110000110111100110111...     0.50     0.101010\n",
       "8  1001000001000111010011100100010101001000010001...     0.54     0.109091\n",
       "9  0110001111111101100000110110110100100111101111...     0.44     0.088889"
      ]
     },
     "execution_count": 19,
     "metadata": {},
     "output_type": "execute_result"
    }
   ],
   "source": [
    "all_pop_info = pd.DataFrame.from_dict(all_param_map)\n",
    "all_pop_info"
   ]
  },
  {
   "cell_type": "code",
   "execution_count": 20,
   "id": "6e56096b",
   "metadata": {},
   "outputs": [
    {
     "data": {
      "text/plain": [
       "0    0.105051\n",
       "1    0.090909\n",
       "2    0.080808\n",
       "3    0.096970\n",
       "4    0.094949\n",
       "5    0.107071\n",
       "6    0.125253\n",
       "7    0.101010\n",
       "8    0.109091\n",
       "9    0.088889\n",
       "Name: select_prob, dtype: float64"
      ]
     },
     "execution_count": 20,
     "metadata": {},
     "output_type": "execute_result"
    }
   ],
   "source": [
    "all_pop_info[\"select_prob\"]"
   ]
  },
  {
   "cell_type": "code",
   "execution_count": 21,
   "id": "ad29e417",
   "metadata": {},
   "outputs": [],
   "source": [
    "import matplotlib.pyplot as plt"
   ]
  },
  {
   "cell_type": "code",
   "execution_count": 22,
   "id": "d0c1fdc6",
   "metadata": {},
   "outputs": [
    {
     "data": {
      "text/plain": [
       "<matplotlib.legend.Legend at 0x22083adcca0>"
      ]
     },
     "execution_count": 22,
     "metadata": {},
     "output_type": "execute_result"
    },
    {
     "data": {
      "image/png": "[encoded data removed]",
      "text/plain": [
       "<Figure size 432x288 with 1 Axes>"
      ]
     },
     "metadata": {
      "needs_background": "light"
     },
     "output_type": "display_data"
    }
   ],
   "source": [
    "plt.hist(all_pop_info[\"fitness\"], bins = 20, label = \"fitness\")\n",
    "plt.legend()"
   ]
  },
  {
   "cell_type": "code",
   "execution_count": 23,
   "id": "477454bf",
   "metadata": {},
   "outputs": [
    {
     "data": {
      "text/plain": [
       "(array([1., 0., 0., 1., 1., 0., 1., 1., 0., 1., 1., 1., 1., 0., 0., 0., 0.,\n",
       "        0., 0., 1.]),\n",
       " array([0.08080808, 0.0830303 , 0.08525253, 0.08747475, 0.08969697,\n",
       "        0.09191919, 0.09414141, 0.09636364, 0.09858586, 0.10080808,\n",
       "        0.1030303 , 0.10525253, 0.10747475, 0.10969697, 0.11191919,\n",
       "        0.11414141, 0.11636364, 0.11858586, 0.12080808, 0.1230303 ,\n",
       "        0.12525253]),\n",
       " <BarContainer object of 20 artists>)"
      ]
     },
     "execution_count": 23,
     "metadata": {},
     "output_type": "execute_result"
    },
    {
     "data": {
      "image/png": "[encoded data removed]",
      "text/plain": [
       "<Figure size 432x288 with 1 Axes>"
      ]
     },
     "metadata": {
      "needs_background": "light"
     },
     "output_type": "display_data"
    }
   ],
   "source": [
    "plt.hist(all_pop_info[\"select_prob\"], bins = 20)"
   ]
  },
  {
   "cell_type": "code",
   "execution_count": null,
   "id": "0d81462c",
   "metadata": {},
   "outputs": [],
   "source": []
  }
 ],
 "metadata": {
  "kernelspec": {
   "display_name": "Python 3 (ipykernel)",
   "language": "python",
   "name": "python3"
  },
  "language_info": {
   "codemirror_mode": {
    "name": "ipython",
    "version": 3
   },
   "file_extension": ".py",
   "mimetype": "text/x-python",
   "name": "python",
   "nbconvert_exporter": "python",
   "pygments_lexer": "ipython3",
   "version": "3.9.12"
  }
 },
 "nbformat": 4,
 "nbformat_minor": 5
}
