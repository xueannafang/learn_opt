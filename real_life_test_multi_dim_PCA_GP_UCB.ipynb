{
 "cells": [
  {
   "cell_type": "markdown",
   "id": "2a2e2f38",
   "metadata": {},
   "source": [
    "The aim of this notebook is to test BO in real-life experimental data (compressed by PCA already)\n",
    "\n",
    "One of the (highest) observed result is first removed from the dataset. \n",
    "A standard BO will be performed based on the rest of data. \n",
    "The predicted next-point-to-go will be compared with the left-out-best point.\n",
    "The previous left-out point will be then added to the training set to refine the model. \n"
   ]
  },
  {
   "cell_type": "code",
   "execution_count": 69,
   "id": "1bf90303",
   "metadata": {},
   "outputs": [],
   "source": [
    "import pandas as pd\n",
    "import numpy as np\n",
    "seed = 95\n",
    "np.random.seed(seed)\n",
    "\n",
    "import matplotlib.pyplot as plt\n",
    "\n",
    "from sklearn.gaussian_process import GaussianProcessRegressor as GPR\n",
    "\n",
    "from sklearn.gaussian_process.kernels import WhiteKernel, RBF, Matern\n",
    "\n",
    "from scipy.optimize import minimize"
   ]
  },
  {
   "cell_type": "code",
   "execution_count": 2,
   "id": "f4aa1007",
   "metadata": {},
   "outputs": [],
   "source": [
    "data_file = \"bo_test_pca_df_mono_24.csv\""
   ]
  },
  {
   "cell_type": "code",
   "execution_count": 4,
   "id": "c1983953",
   "metadata": {},
   "outputs": [
    {
     "data": {
      "text/html": [
       "<div>\n",
       "<style scoped>\n",
       "    .dataframe tbody tr th:only-of-type {\n",
       "        vertical-align: middle;\n",
       "    }\n",
       "\n",
       "    .dataframe tbody tr th {\n",
       "        vertical-align: top;\n",
       "    }\n",
       "\n",
       "    .dataframe thead th {\n",
       "        text-align: right;\n",
       "    }\n",
       "</style>\n",
       "<table border=\"1\" class=\"dataframe\">\n",
       "  <thead>\n",
       "    <tr style=\"text-align: right;\">\n",
       "      <th></th>\n",
       "      <th>Unnamed: 0</th>\n",
       "      <th>PC1</th>\n",
       "      <th>PC2</th>\n",
       "      <th>standardised_yield</th>\n",
       "      <th>yield</th>\n",
       "    </tr>\n",
       "  </thead>\n",
       "  <tbody>\n",
       "    <tr>\n",
       "      <th>0</th>\n",
       "      <td>0</td>\n",
       "      <td>2.993404</td>\n",
       "      <td>1.292484</td>\n",
       "      <td>1.498429</td>\n",
       "      <td>0.82</td>\n",
       "    </tr>\n",
       "    <tr>\n",
       "      <th>1</th>\n",
       "      <td>1</td>\n",
       "      <td>-0.088412</td>\n",
       "      <td>-1.644992</td>\n",
       "      <td>1.081716</td>\n",
       "      <td>0.72</td>\n",
       "    </tr>\n",
       "    <tr>\n",
       "      <th>2</th>\n",
       "      <td>2</td>\n",
       "      <td>7.073370</td>\n",
       "      <td>1.667592</td>\n",
       "      <td>0.998374</td>\n",
       "      <td>0.70</td>\n",
       "    </tr>\n",
       "    <tr>\n",
       "      <th>3</th>\n",
       "      <td>3</td>\n",
       "      <td>4.542111</td>\n",
       "      <td>2.017177</td>\n",
       "      <td>0.665004</td>\n",
       "      <td>0.62</td>\n",
       "    </tr>\n",
       "    <tr>\n",
       "      <th>4</th>\n",
       "      <td>4</td>\n",
       "      <td>3.072163</td>\n",
       "      <td>-1.591613</td>\n",
       "      <td>0.248291</td>\n",
       "      <td>0.52</td>\n",
       "    </tr>\n",
       "  </tbody>\n",
       "</table>\n",
       "</div>"
      ],
      "text/plain": [
       "   Unnamed: 0       PC1       PC2  standardised_yield  yield\n",
       "0           0  2.993404  1.292484            1.498429   0.82\n",
       "1           1 -0.088412 -1.644992            1.081716   0.72\n",
       "2           2  7.073370  1.667592            0.998374   0.70\n",
       "3           3  4.542111  2.017177            0.665004   0.62\n",
       "4           4  3.072163 -1.591613            0.248291   0.52"
      ]
     },
     "execution_count": 4,
     "metadata": {},
     "output_type": "execute_result"
    }
   ],
   "source": [
    "origin_data = pd.read_csv(data_file, index_col = None)\n",
    "origin_data.head()"
   ]
  },
  {
   "cell_type": "code",
   "execution_count": 8,
   "id": "73db7db4",
   "metadata": {},
   "outputs": [
    {
     "data": {
      "text/html": [
       "<div>\n",
       "<style scoped>\n",
       "    .dataframe tbody tr th:only-of-type {\n",
       "        vertical-align: middle;\n",
       "    }\n",
       "\n",
       "    .dataframe tbody tr th {\n",
       "        vertical-align: top;\n",
       "    }\n",
       "\n",
       "    .dataframe thead th {\n",
       "        text-align: right;\n",
       "    }\n",
       "</style>\n",
       "<table border=\"1\" class=\"dataframe\">\n",
       "  <thead>\n",
       "    <tr style=\"text-align: right;\">\n",
       "      <th></th>\n",
       "      <th>X1</th>\n",
       "      <th>X2</th>\n",
       "      <th>Y</th>\n",
       "    </tr>\n",
       "  </thead>\n",
       "  <tbody>\n",
       "    <tr>\n",
       "      <th>0</th>\n",
       "      <td>2.993404</td>\n",
       "      <td>1.292484</td>\n",
       "      <td>1.498429</td>\n",
       "    </tr>\n",
       "    <tr>\n",
       "      <th>1</th>\n",
       "      <td>-0.088412</td>\n",
       "      <td>-1.644992</td>\n",
       "      <td>1.081716</td>\n",
       "    </tr>\n",
       "    <tr>\n",
       "      <th>2</th>\n",
       "      <td>7.073370</td>\n",
       "      <td>1.667592</td>\n",
       "      <td>0.998374</td>\n",
       "    </tr>\n",
       "    <tr>\n",
       "      <th>3</th>\n",
       "      <td>4.542111</td>\n",
       "      <td>2.017177</td>\n",
       "      <td>0.665004</td>\n",
       "    </tr>\n",
       "    <tr>\n",
       "      <th>4</th>\n",
       "      <td>3.072163</td>\n",
       "      <td>-1.591613</td>\n",
       "      <td>0.248291</td>\n",
       "    </tr>\n",
       "  </tbody>\n",
       "</table>\n",
       "</div>"
      ],
      "text/plain": [
       "         X1        X2         Y\n",
       "0  2.993404  1.292484  1.498429\n",
       "1 -0.088412 -1.644992  1.081716\n",
       "2  7.073370  1.667592  0.998374\n",
       "3  4.542111  2.017177  0.665004\n",
       "4  3.072163 -1.591613  0.248291"
      ]
     },
     "execution_count": 8,
     "metadata": {},
     "output_type": "execute_result"
    }
   ],
   "source": [
    "train_df = pd.DataFrame()\n",
    "train_df['X1'] = origin_data['PC1']\n",
    "train_df['X2'] = origin_data['PC2']\n",
    "train_df['Y'] = origin_data['standardised_yield']\n",
    "train_df.head()"
   ]
  },
  {
   "cell_type": "code",
   "execution_count": 11,
   "id": "a7298f62",
   "metadata": {},
   "outputs": [
    {
     "data": {
      "text/html": [
       "<div>\n",
       "<style scoped>\n",
       "    .dataframe tbody tr th:only-of-type {\n",
       "        vertical-align: middle;\n",
       "    }\n",
       "\n",
       "    .dataframe tbody tr th {\n",
       "        vertical-align: top;\n",
       "    }\n",
       "\n",
       "    .dataframe thead th {\n",
       "        text-align: right;\n",
       "    }\n",
       "</style>\n",
       "<table border=\"1\" class=\"dataframe\">\n",
       "  <thead>\n",
       "    <tr style=\"text-align: right;\">\n",
       "      <th></th>\n",
       "      <th>X1</th>\n",
       "      <th>X2</th>\n",
       "      <th>Y</th>\n",
       "    </tr>\n",
       "  </thead>\n",
       "  <tbody>\n",
       "    <tr>\n",
       "      <th>0</th>\n",
       "      <td>2.993404</td>\n",
       "      <td>1.292484</td>\n",
       "      <td>1.498429</td>\n",
       "    </tr>\n",
       "    <tr>\n",
       "      <th>1</th>\n",
       "      <td>-0.088412</td>\n",
       "      <td>-1.644992</td>\n",
       "      <td>1.081716</td>\n",
       "    </tr>\n",
       "    <tr>\n",
       "      <th>2</th>\n",
       "      <td>7.073370</td>\n",
       "      <td>1.667592</td>\n",
       "      <td>0.998374</td>\n",
       "    </tr>\n",
       "    <tr>\n",
       "      <th>3</th>\n",
       "      <td>4.542111</td>\n",
       "      <td>2.017177</td>\n",
       "      <td>0.665004</td>\n",
       "    </tr>\n",
       "    <tr>\n",
       "      <th>4</th>\n",
       "      <td>3.072163</td>\n",
       "      <td>-1.591613</td>\n",
       "      <td>0.248291</td>\n",
       "    </tr>\n",
       "  </tbody>\n",
       "</table>\n",
       "</div>"
      ],
      "text/plain": [
       "         X1        X2         Y\n",
       "0  2.993404  1.292484  1.498429\n",
       "1 -0.088412 -1.644992  1.081716\n",
       "2  7.073370  1.667592  0.998374\n",
       "3  4.542111  2.017177  0.665004\n",
       "4  3.072163 -1.591613  0.248291"
      ]
     },
     "execution_count": 11,
     "metadata": {},
     "output_type": "execute_result"
    }
   ],
   "source": [
    "#sort values by std yield\n",
    "train_df.sort_values(by = 'Y', ascending = False)\n",
    "train_df.head()"
   ]
  },
  {
   "cell_type": "code",
   "execution_count": 12,
   "id": "8a605564",
   "metadata": {},
   "outputs": [],
   "source": [
    "#split the full dataset with highest Y and the rest\n",
    "real_best_Y = train_df.iloc[0]\n",
    "rest_train_df = train_df.iloc[1:]"
   ]
  },
  {
   "cell_type": "code",
   "execution_count": 17,
   "id": "b3e8197f",
   "metadata": {},
   "outputs": [
    {
     "data": {
      "text/plain": [
       "X1    2.993404\n",
       "X2    1.292484\n",
       "Y     1.498429\n",
       "Name: 0, dtype: float64"
      ]
     },
     "execution_count": 17,
     "metadata": {},
     "output_type": "execute_result"
    }
   ],
   "source": [
    "#the best observed data, separate from the training set\n",
    "real_best_Y"
   ]
  },
  {
   "cell_type": "code",
   "execution_count": 19,
   "id": "dff7fa5d",
   "metadata": {},
   "outputs": [
    {
     "data": {
      "text/html": [
       "<div>\n",
       "<style scoped>\n",
       "    .dataframe tbody tr th:only-of-type {\n",
       "        vertical-align: middle;\n",
       "    }\n",
       "\n",
       "    .dataframe tbody tr th {\n",
       "        vertical-align: top;\n",
       "    }\n",
       "\n",
       "    .dataframe thead th {\n",
       "        text-align: right;\n",
       "    }\n",
       "</style>\n",
       "<table border=\"1\" class=\"dataframe\">\n",
       "  <thead>\n",
       "    <tr style=\"text-align: right;\">\n",
       "      <th></th>\n",
       "      <th>X1</th>\n",
       "      <th>X2</th>\n",
       "      <th>Y</th>\n",
       "    </tr>\n",
       "  </thead>\n",
       "  <tbody>\n",
       "    <tr>\n",
       "      <th>1</th>\n",
       "      <td>-0.088412</td>\n",
       "      <td>-1.644992</td>\n",
       "      <td>1.081716</td>\n",
       "    </tr>\n",
       "    <tr>\n",
       "      <th>2</th>\n",
       "      <td>7.073370</td>\n",
       "      <td>1.667592</td>\n",
       "      <td>0.998374</td>\n",
       "    </tr>\n",
       "    <tr>\n",
       "      <th>3</th>\n",
       "      <td>4.542111</td>\n",
       "      <td>2.017177</td>\n",
       "      <td>0.665004</td>\n",
       "    </tr>\n",
       "    <tr>\n",
       "      <th>4</th>\n",
       "      <td>3.072163</td>\n",
       "      <td>-1.591613</td>\n",
       "      <td>0.248291</td>\n",
       "    </tr>\n",
       "    <tr>\n",
       "      <th>5</th>\n",
       "      <td>-2.375972</td>\n",
       "      <td>6.346179</td>\n",
       "      <td>-0.835161</td>\n",
       "    </tr>\n",
       "  </tbody>\n",
       "</table>\n",
       "</div>"
      ],
      "text/plain": [
       "         X1        X2         Y\n",
       "1 -0.088412 -1.644992  1.081716\n",
       "2  7.073370  1.667592  0.998374\n",
       "3  4.542111  2.017177  0.665004\n",
       "4  3.072163 -1.591613  0.248291\n",
       "5 -2.375972  6.346179 -0.835161"
      ]
     },
     "execution_count": 19,
     "metadata": {},
     "output_type": "execute_result"
    }
   ],
   "source": [
    "#the rest of the training set, to be fed in to BO\n",
    "rest_train_df.head()"
   ]
  },
  {
   "cell_type": "code",
   "execution_count": 25,
   "id": "7ab338b5",
   "metadata": {},
   "outputs": [],
   "source": [
    "all_col = rest_train_df.columns"
   ]
  },
  {
   "cell_type": "code",
   "execution_count": 31,
   "id": "6a7684a0",
   "metadata": {},
   "outputs": [],
   "source": [
    "#since this is a more-than-one-dimensional data, we need to first weight each X by the correlation with Y\n",
    "\n",
    "def get_all_corr(all_col, ip_df):\n",
    "    corr_dict = {\n",
    "        'X':[],\n",
    "        'corr_X_Y':[]\n",
    "    }\n",
    "\n",
    "    for x in all_col[:-1]:\n",
    "        \n",
    "#         print(x)\n",
    "        corr_dict['X'].append(x)\n",
    "        corr_x_Y = rest_train_df[x].corr(rest_train_df['Y'])\n",
    "        corr_dict['corr_X_Y'].append(corr_x_Y)\n",
    "#         print(corr_1)\n",
    "    return corr_dict\n"
   ]
  },
  {
   "cell_type": "code",
   "execution_count": 32,
   "id": "b3e6ff3d",
   "metadata": {},
   "outputs": [
    {
     "data": {
      "text/plain": [
       "{'X': ['X1', 'X2'], 'corr_X_Y': [0.6807575882726294, -0.15811810254336017]}"
      ]
     },
     "execution_count": 32,
     "metadata": {},
     "output_type": "execute_result"
    }
   ],
   "source": [
    "get_all_corr(all_col, rest_train_df)"
   ]
  },
  {
   "cell_type": "code",
   "execution_count": 33,
   "id": "48ba29d0",
   "metadata": {},
   "outputs": [],
   "source": [
    "#the result indicates X1 has 0.68 correlation with Y\n",
    "#X2 has -0.15 correlation with Y"
   ]
  },
  {
   "cell_type": "code",
   "execution_count": 36,
   "id": "08eda4c1",
   "metadata": {},
   "outputs": [],
   "source": [
    "#combine all variables (in this case is 2) into one variable\n",
    "\n",
    "def dim_to_one(all_col, ip_df):\n",
    "    corr_dict = get_all_corr(all_col, ip_df)\n",
    "    #initialise the combined X column\n",
    "    op_df = ip_df\n",
    "    op_df['comb_X'] = 0\n",
    "    for i, x in enumerate(corr_dict['X']):\n",
    "        op_df['comb_X'] += op_df[corr_dict['X'][i]]*corr_dict['corr_X_Y'][i] #calculate the weighted variable\n",
    "    return op_df"
   ]
  },
  {
   "cell_type": "code",
   "execution_count": 37,
   "id": "be8f38eb",
   "metadata": {},
   "outputs": [
    {
     "name": "stderr",
     "output_type": "stream",
     "text": [
      "C:\\Users\\sh19129\\AppData\\Local\\Temp\\ipykernel_2772\\3632373965.py:7: SettingWithCopyWarning: \n",
      "A value is trying to be set on a copy of a slice from a DataFrame.\n",
      "Try using .loc[row_indexer,col_indexer] = value instead\n",
      "\n",
      "See the caveats in the documentation: https://pandas.pydata.org/pandas-docs/stable/user_guide/indexing.html#returning-a-view-versus-a-copy\n",
      "  op_df['comb_X'] = 0\n",
      "C:\\Users\\sh19129\\AppData\\Local\\Temp\\ipykernel_2772\\3632373965.py:9: SettingWithCopyWarning: \n",
      "A value is trying to be set on a copy of a slice from a DataFrame.\n",
      "Try using .loc[row_indexer,col_indexer] = value instead\n",
      "\n",
      "See the caveats in the documentation: https://pandas.pydata.org/pandas-docs/stable/user_guide/indexing.html#returning-a-view-versus-a-copy\n",
      "  op_df['comb_X'] += op_df[corr_dict['X'][i]]*corr_dict['corr_X_Y'][i] #calculate the weighted variable\n"
     ]
    }
   ],
   "source": [
    "rest_train_df_one_dim = dim_to_one(all_col, rest_train_df)"
   ]
  },
  {
   "cell_type": "code",
   "execution_count": 39,
   "id": "f4882f96",
   "metadata": {},
   "outputs": [
    {
     "data": {
      "text/html": [
       "<div>\n",
       "<style scoped>\n",
       "    .dataframe tbody tr th:only-of-type {\n",
       "        vertical-align: middle;\n",
       "    }\n",
       "\n",
       "    .dataframe tbody tr th {\n",
       "        vertical-align: top;\n",
       "    }\n",
       "\n",
       "    .dataframe thead th {\n",
       "        text-align: right;\n",
       "    }\n",
       "</style>\n",
       "<table border=\"1\" class=\"dataframe\">\n",
       "  <thead>\n",
       "    <tr style=\"text-align: right;\">\n",
       "      <th></th>\n",
       "      <th>X1</th>\n",
       "      <th>X2</th>\n",
       "      <th>Y</th>\n",
       "      <th>comb_X</th>\n",
       "    </tr>\n",
       "  </thead>\n",
       "  <tbody>\n",
       "    <tr>\n",
       "      <th>1</th>\n",
       "      <td>-0.088412</td>\n",
       "      <td>-1.644992</td>\n",
       "      <td>1.081716</td>\n",
       "      <td>0.199916</td>\n",
       "    </tr>\n",
       "    <tr>\n",
       "      <th>2</th>\n",
       "      <td>7.073370</td>\n",
       "      <td>1.667592</td>\n",
       "      <td>0.998374</td>\n",
       "      <td>4.551574</td>\n",
       "    </tr>\n",
       "    <tr>\n",
       "      <th>3</th>\n",
       "      <td>4.542111</td>\n",
       "      <td>2.017177</td>\n",
       "      <td>0.665004</td>\n",
       "      <td>2.773125</td>\n",
       "    </tr>\n",
       "    <tr>\n",
       "      <th>4</th>\n",
       "      <td>3.072163</td>\n",
       "      <td>-1.591613</td>\n",
       "      <td>0.248291</td>\n",
       "      <td>2.343061</td>\n",
       "    </tr>\n",
       "    <tr>\n",
       "      <th>5</th>\n",
       "      <td>-2.375972</td>\n",
       "      <td>6.346179</td>\n",
       "      <td>-0.835161</td>\n",
       "      <td>-2.620907</td>\n",
       "    </tr>\n",
       "  </tbody>\n",
       "</table>\n",
       "</div>"
      ],
      "text/plain": [
       "         X1        X2         Y    comb_X\n",
       "1 -0.088412 -1.644992  1.081716  0.199916\n",
       "2  7.073370  1.667592  0.998374  4.551574\n",
       "3  4.542111  2.017177  0.665004  2.773125\n",
       "4  3.072163 -1.591613  0.248291  2.343061\n",
       "5 -2.375972  6.346179 -0.835161 -2.620907"
      ]
     },
     "execution_count": 39,
     "metadata": {},
     "output_type": "execute_result"
    }
   ],
   "source": [
    "rest_train_df_one_dim.head()"
   ]
  },
  {
   "cell_type": "code",
   "execution_count": 161,
   "id": "b3f54d02",
   "metadata": {},
   "outputs": [
    {
     "name": "stdout",
     "output_type": "stream",
     "text": [
      "1.8334173281690633 1.4984287460757888\n"
     ]
    },
    {
     "name": "stderr",
     "output_type": "stream",
     "text": [
      "C:\\Users\\sh19129\\AppData\\Local\\Temp\\ipykernel_2772\\3632373965.py:7: SettingWithCopyWarning: \n",
      "A value is trying to be set on a copy of a slice from a DataFrame\n",
      "\n",
      "See the caveats in the documentation: https://pandas.pydata.org/pandas-docs/stable/user_guide/indexing.html#returning-a-view-versus-a-copy\n",
      "  op_df['comb_X'] = 0\n",
      "C:\\Users\\sh19129\\AppData\\Local\\Temp\\ipykernel_2772\\3632373965.py:9: SettingWithCopyWarning: \n",
      "A value is trying to be set on a copy of a slice from a DataFrame\n",
      "\n",
      "See the caveats in the documentation: https://pandas.pydata.org/pandas-docs/stable/user_guide/indexing.html#returning-a-view-versus-a-copy\n",
      "  op_df['comb_X'] += op_df[corr_dict['X'][i]]*corr_dict['corr_X_Y'][i] #calculate the weighted variable\n"
     ]
    }
   ],
   "source": [
    "highest_df_one_dim = dim_to_one(all_col, real_best_Y)\n",
    "highest_df_one_dim #with combined x based on the observed best value\n",
    "obs_best_x = highest_df_one_dim['comb_X']\n",
    "obs_best_y = highest_df_one_dim['Y']\n",
    "print(obs_best_x, obs_best_y)"
   ]
  },
  {
   "cell_type": "code",
   "execution_count": 40,
   "id": "3f291578",
   "metadata": {},
   "outputs": [],
   "source": [
    "#organise the one-dimensional data (to be fed into BO)\n",
    "\n",
    "def sort_data_for_BO(ip_df):\n",
    "    exp_X_Y = pd.DataFrame()\n",
    "    exp_X_Y['X'] = ip_df['comb_X']\n",
    "    exp_X_Y['Y'] = ip_df['Y']\n",
    "    return exp_X_Y\n"
   ]
  },
  {
   "cell_type": "code",
   "execution_count": 41,
   "id": "491031cf",
   "metadata": {},
   "outputs": [
    {
     "data": {
      "text/html": [
       "<div>\n",
       "<style scoped>\n",
       "    .dataframe tbody tr th:only-of-type {\n",
       "        vertical-align: middle;\n",
       "    }\n",
       "\n",
       "    .dataframe tbody tr th {\n",
       "        vertical-align: top;\n",
       "    }\n",
       "\n",
       "    .dataframe thead th {\n",
       "        text-align: right;\n",
       "    }\n",
       "</style>\n",
       "<table border=\"1\" class=\"dataframe\">\n",
       "  <thead>\n",
       "    <tr style=\"text-align: right;\">\n",
       "      <th></th>\n",
       "      <th>X</th>\n",
       "      <th>Y</th>\n",
       "    </tr>\n",
       "  </thead>\n",
       "  <tbody>\n",
       "    <tr>\n",
       "      <th>1</th>\n",
       "      <td>0.199916</td>\n",
       "      <td>1.081716</td>\n",
       "    </tr>\n",
       "    <tr>\n",
       "      <th>2</th>\n",
       "      <td>4.551574</td>\n",
       "      <td>0.998374</td>\n",
       "    </tr>\n",
       "    <tr>\n",
       "      <th>3</th>\n",
       "      <td>2.773125</td>\n",
       "      <td>0.665004</td>\n",
       "    </tr>\n",
       "    <tr>\n",
       "      <th>4</th>\n",
       "      <td>2.343061</td>\n",
       "      <td>0.248291</td>\n",
       "    </tr>\n",
       "    <tr>\n",
       "      <th>5</th>\n",
       "      <td>-2.620907</td>\n",
       "      <td>-0.835161</td>\n",
       "    </tr>\n",
       "  </tbody>\n",
       "</table>\n",
       "</div>"
      ],
      "text/plain": [
       "          X         Y\n",
       "1  0.199916  1.081716\n",
       "2  4.551574  0.998374\n",
       "3  2.773125  0.665004\n",
       "4  2.343061  0.248291\n",
       "5 -2.620907 -0.835161"
      ]
     },
     "execution_count": 41,
     "metadata": {},
     "output_type": "execute_result"
    }
   ],
   "source": [
    "data_for_BO = sort_data_for_BO(rest_train_df_one_dim)\n",
    "data_for_BO.head()"
   ]
  },
  {
   "cell_type": "code",
   "execution_count": 198,
   "id": "8cd553fe",
   "metadata": {},
   "outputs": [],
   "source": [
    "#user inputs and pre-define hyperparameters for BO\n",
    "\n",
    "noise_level = 0.5 #the expected standard deviation of experimental measurement\n",
    "\n",
    "#hyperparameters for rbf\n",
    "rbf_hp = {\n",
    "    'length_scale': 1,\n",
    "    'length_scale_bounds' : (1e-4, 1e4),\n",
    "    'amp' : 1,\n",
    "    'const' : 0\n",
    "}\n",
    "\n",
    "# kernel = rbf_hp['amp']*RBF(length_scale = rbf_hp['length_scale'], length_scale_bounds = rbf_hp['length_scale_bounds']) + rbf_hp['const']\n",
    "\n",
    "matern_hp = {\n",
    "    'length_scale': 1,\n",
    "    'length_scale_bounds' : (1e-4, 1e2),\n",
    "    'nu' : 1.5,\n",
    "    'amp':1,\n",
    "    'const' : 0\n",
    "}\n",
    "\n",
    "kernel = matern_hp['amp']*Matern(length_scale = matern_hp['length_scale'], length_scale_bounds = matern_hp['length_scale_bounds'], nu = matern_hp['nu'])+matern_hp['const']\n",
    "\n",
    "\n",
    "#hyperparameters and kernel dictionary\n",
    "gpr_hp_dict = {\n",
    "    'alpha' : noise_level,\n",
    "    'kernel' : kernel,\n",
    "    'random_state' : 1\n",
    "}\n",
    "\n",
    "#generate the initial X\n",
    "X = np.linspace(-5, 5, 201) #Generate 201 initial points from -10 to 10\n",
    "\n",
    "#generate real_X and real_Y for the first round\n",
    "#convert the pandas series to nparray\n",
    "real_X = np.asarray(data_for_BO['X'])\n",
    "real_Y = np.asarray(-data_for_BO['Y'])#here all the Y are opposite to the original because the BO is going to minimise the data"
   ]
  },
  {
   "cell_type": "code",
   "execution_count": 189,
   "id": "3a2df9b1",
   "metadata": {},
   "outputs": [],
   "source": [
    "def modify_hp(gpr_hp_dict, noise_level, length_scale, length_scale_bounds, kern = 'matern', nu = 1.5, amp = 1, const = 0):\n",
    "    if kern == 'matern':\n",
    "        kernel = amp*Matern(length_scale =length_scale, length_scale_bounds = length_scale_bounds, nu = nu)+ const\n",
    "        \n",
    "    gpr_hp_dict['kernel'] = kernel\n",
    "    gpr_hp_dict['alpha'] = noise_level\n",
    "    return gpr_hp_dict"
   ]
  },
  {
   "cell_type": "code",
   "execution_count": 199,
   "id": "63150ea9",
   "metadata": {},
   "outputs": [
    {
     "data": {
      "text/plain": [
       "<matplotlib.legend.Legend at 0x254d4c68130>"
      ]
     },
     "execution_count": 199,
     "metadata": {},
     "output_type": "execute_result"
    },
    {
     "data": {
      "image/png": "[encoded data removed]",
      "text/plain": [
       "<Figure size 432x288 with 1 Axes>"
      ]
     },
     "metadata": {
      "needs_background": "light"
     },
     "output_type": "display_data"
    }
   ],
   "source": [
    "#look at the initial measurements\n",
    "fig, ax = plt.subplots()\n",
    "# ax.plot(X, Y, color = 'red', label = 'theoretical')\n",
    "ax.scatter(real_X, real_Y, color = 'blue', marker = 'x', label = 'initial_exp_data_without_highest')\n",
    "ax.set_xlabel('real_X_initial_for_BO')\n",
    "ax.set_ylabel('real_Y_initial_for_BO')\n",
    "ax.legend()\n"
   ]
  },
  {
   "cell_type": "code",
   "execution_count": 200,
   "id": "ed124df5",
   "metadata": {},
   "outputs": [],
   "source": [
    "def convert_dim(X):\n",
    "    \"\"\"\n",
    "    The dimension of X must be 2.\n",
    "    If X is a 1D array, reshape it to 2.\n",
    "    Otherwise raise error.\n",
    "    \n",
    "    The first index is the number of sample.\n",
    "    The second index is the number of dimension.\n",
    "    There should not be any more dimension.\n",
    "    \"\"\"\n",
    "    if not isinstance(X, np.ndarray):\n",
    "        if isinstance(X, list):\n",
    "            X = convert_dim(np.array(X))\n",
    "        elif isinstance(X, (int, float, complex)):\n",
    "            X = convert_dim(np.array([X]))\n",
    "            \n",
    "    \n",
    "    if len(X.shape) == 1:\n",
    "        return X.reshape(-1, 1)\n",
    "    elif len(X.shape) == 2:\n",
    "        return X\n",
    "    else:\n",
    "        raise ValueError(f\"The shape of X: {len(X.shape)}, is larger than 2.\")\n",
    "\n",
    "\n",
    "def convert_type_y(Y):\n",
    "    if not isinstance(Y, np.ndarray):\n",
    "        if isinstance(Y, list):\n",
    "            Y = np.array(Y)\n",
    "        elif isinstance(Y, (int, float, complex)):\n",
    "            Y = np.array([Y])\n",
    "        \n",
    "    \n",
    "    return Y"
   ]
  },
  {
   "cell_type": "code",
   "execution_count": 201,
   "id": "0d2c0cfc",
   "metadata": {},
   "outputs": [],
   "source": [
    "class BayesOpt:\n",
    "    \n",
    "    def __init__(self):\n",
    "        self.data_X = [] # initialise the data container\n",
    "        self.data_Y = []\n",
    "        self.gpr_log = {}\n",
    "        \n",
    "    \n",
    "    def load_data(self, X:np.ndarray, Y:np.ndarray):\n",
    "        \"\"\"\n",
    "        Load real measurement data\n",
    "        \"\"\"\n",
    "        #get the right shape, 2d array\n",
    "        reshp_X = convert_dim(X)\n",
    "        \n",
    "        self.data_X = reshp_X\n",
    "        self.data_Y = convert_type_y(Y)\n",
    "        \n",
    "#         print(self.data_X)\n",
    "#         print(self.data_Y)\n",
    "    \n",
    "    def do_gpr(self, gpr_hp:dict):\n",
    "        \"\"\"\n",
    "        run gaussian progress regression.\n",
    "        The hyperparameters are pre-defined by users in gpr_hp.\n",
    "        The model will auto refine itself based on the data fed into it.\n",
    "        \"\"\"\n",
    "        kernel = gpr_hp['kernel']\n",
    "        random_state = gpr_hp['random_state']\n",
    "        alpha = gpr_hp['alpha'] #the noise level\n",
    "        \n",
    "        #check if data has been properly loaded. Abort if not.\n",
    "        if len(self.data_X) != 0:\n",
    "            gpr = GPR(kernel = kernel, alpha = alpha, random_state = random_state).fit(self.data_X, self.data_Y)\n",
    "            self.gpr_log['gpr'] = gpr\n",
    "        \n",
    "        else:\n",
    "            raise ValueError(\"No data has been loaded. Please load initial measurement data.\")\n",
    "        \n",
    "        #results\n",
    "        new_kernel = gpr.kernel_ #return kernel after training\n",
    "        gpr_score = gpr.score(self.data_X, self.data_Y) #return fitting score\n",
    "        \n",
    "        self.gpr_log['opt_kernel']  = new_kernel\n",
    "        self.gpr_log['score'] = gpr_score\n",
    "        \n",
    "        print(f\"gpr log: {self.gpr_log}\")\n",
    "        print(\"Look out for warning message. If says convergence failed, please modify the gpr_hp_dict inputs\")\n",
    "    \n",
    "    def gpr_predict(self, X_to_predict, return_std = True, get_plot = True):\n",
    "        \n",
    "        self.reshp_X_to_predict = convert_dim(X_to_predict) #the X series to predict, needs to be reshaped before feeding into gpr\n",
    "        \n",
    "        self.X_to_pred_for_plot = X_to_predict #the X series to plot\n",
    "        \n",
    "        self.y_pred_mean, self.y_pred_std = self.gpr_log['gpr'].predict(self.reshp_X_to_predict, return_std = True) #prediction\n",
    "        \n",
    "        if get_plot:\n",
    "            self.plot_gpr_results() #optional\n",
    "\n",
    "        \n",
    "    def plot_gpr_results(self, aq_func = None):\n",
    "        \"\"\"\n",
    "        This step is the one to give you the transparent fillings behind the curve.\n",
    "        Also the iconic styles seen in BO related papers.\n",
    "        However, if you try to run the workflow again, this confidence interval part could change.\n",
    "        There are many random factors involved there...\n",
    "        \"\"\"\n",
    "        fig, ax = plt.subplots()\n",
    "#         ax.plot(self.reshp_X_to_predict, Y, color = 'red', ls = '--', label = 'theoretical')\n",
    "        ax.errorbar(self.data_X, self.data_Y, yerr = noise_level, color = 'black', ls = 'None', marker = '.', label = 'experimental')\n",
    "        #yerr is the noise_level used above\n",
    "        ax.plot(self.X_to_pred_for_plot, self.y_pred_mean, color = 'tab:orange', label = 'predicted mean')\n",
    "        ax.fill_between(self.X_to_pred_for_plot, self.y_pred_mean-self.y_pred_std*1.96, self.y_pred_mean+self.y_pred_std*1.96, alpha = 0.5, color = 'tab:orange', label = '95% confidence level')\n",
    "        #1.96 on std is to plot 95% confidence interval\n",
    "        \n",
    "        if aq_func is not None:\n",
    "            ax.plot(self.X_to_pred_for_plot, self.aq_func_Y, color = 'blue', ls = '--', label = 'aq_func')\n",
    "            \n",
    "        ax.legend()\n",
    "        \n",
    "        \n",
    "    def aq_func(self, x0, option = 'ucb', get_aq_plot = True, **kwargs):\n",
    "        \"\"\"\n",
    "        choose which aq_func to use, default ucb.\n",
    "        Other three tb explored...\n",
    "        x0 is the initial guess for the prediction to start with.\n",
    "        \"\"\"\n",
    "        \n",
    "#         kwargs['ucb_beta'] = 1.96\n",
    "        if option == 'ucb':\n",
    "            ucb_beta = kwargs['ucb_beta'] if 'ucb_beta' in kwargs else 1.96\n",
    "            print(\"UCB starts...\")\n",
    "            res = minimize(self.aq_func_ucb, x0 = x0, args = (ucb_beta, self.gpr_log['gpr']), tol = 1e-2) #this is one step of BO\n",
    "            self.min_success = res.success\n",
    "            self.next_x = res.x\n",
    "            \n",
    "            self.aq_func_Y = self.aq_func_ucb(self.X_to_pred_for_plot, ucb_beta, self.gpr_log['gpr'])\n",
    "            if get_aq_plot:\n",
    "                self.plot_gpr_results(aq_func = 'ucb')\n",
    "\n",
    "        print(f\"success?: {self.min_success}\")\n",
    "        \n",
    "        if self.min_success is True:\n",
    "            print(f\"Recommended next x to go: {self.next_x}\")\n",
    "        else:\n",
    "            print(\"Failed to predict. Please check results status:\")\n",
    "            print(res)\n",
    "\n",
    "    \n",
    "    def aq_func_ucb(self, x, ucb_beta, gpr):\n",
    "        mean, std = gpr.predict(convert_dim(x), return_std = True)\n",
    "        return  mean - ucb_beta*std\n",
    "    \n",
    "    def add_new_data(self, new_x, new_y):\n",
    "        \"\"\"\n",
    "        Users can add new data to training set using this function\n",
    "        \"\"\"\n",
    "        crt_data_x = self.data_X\n",
    "        crt_data_y = self.data_Y\n",
    "        \n",
    "        reshp_new_x = convert_dim(new_x)\n",
    "        retyp_new_y = convert_type_y(new_y)\n",
    "        \n",
    "        #print(reshp_new_x, retyp_new_y)\n",
    "        \n",
    "        #concact two arrays together\n",
    "        concat_data_x = np.concatenate((crt_data_x, reshp_new_x), axis = 0)\n",
    "        concat_data_y = np.concatenate((crt_data_y, retyp_new_y), axis = 0)\n",
    "        \n",
    "        self.data_X = concat_data_x\n",
    "        self.data_Y = concat_data_y\n",
    "        \n",
    "        #print(self.data_X, self.data_Y)\n",
    "    \n",
    "    def comp_best_x(self, best_x):\n",
    "        diff_best_x = best_x - self.next_x[0]\n",
    "        print(f\"Difference from observed best x: {diff_best_x}.\")\n",
    "        perct_error = diff_best_x/self.next_x[0]\n",
    "        print(f\"With error: {perct_error*100}%.\")\n",
    "    "
   ]
  },
  {
   "cell_type": "code",
   "execution_count": 202,
   "id": "76c4cb26",
   "metadata": {},
   "outputs": [
    {
     "name": "stderr",
     "output_type": "stream",
     "text": [
      "C:\\Users\\sh19129\\anaconda3\\lib\\site-packages\\sklearn\\gaussian_process\\kernels.py:285: RuntimeWarning: divide by zero encountered in log\n",
      "  return np.log(np.hstack(theta))\n",
      "C:\\Users\\sh19129\\anaconda3\\lib\\site-packages\\sklearn\\gaussian_process\\kernels.py:420: ConvergenceWarning: The optimal value found for dimension 0 of parameter k2__constant_value is close to the specified lower bound 1e-05. Decreasing the bound and calling fit again may find a better value.\n",
      "  warnings.warn(\n"
     ]
    },
    {
     "name": "stdout",
     "output_type": "stream",
     "text": [
      "gpr log: {'gpr': GaussianProcessRegressor(alpha=0.5,\n",
      "                         kernel=1**2 * Matern(length_scale=1, nu=1.5) + 0**2,\n",
      "                         random_state=1), 'opt_kernel': 0.777**2 * Matern(length_scale=2.39, nu=1.5) + 0.00316**2, 'score': 0.5923575484063073}\n",
      "Look out for warning message. If says convergence failed, please modify the gpr_hp_dict inputs\n",
      "UCB starts...\n",
      "success?: True\n",
      "Recommended next x to go: [1.44471585]\n",
      "Difference from observed best x: 0.3887014806616551.\n",
      "With error: 26.905047198886074%.\n"
     ]
    },
    {
     "data": {
      "image/png": "[encoded data removed]",
      "text/plain": [
       "<Figure size 432x288 with 1 Axes>"
      ]
     },
     "metadata": {
      "needs_background": "light"
     },
     "output_type": "display_data"
    },
    {
     "data": {
      "image/png": "[encoded data removed]",
      "text/plain": [
       "<Figure size 432x288 with 1 Axes>"
      ]
     },
     "metadata": {
      "needs_background": "light"
     },
     "output_type": "display_data"
    }
   ],
   "source": [
    "#testblock\n",
    "#print(\"real_X, real_Y\")\n",
    "#print(real_X, real_Y)\n",
    "\n",
    "x0 = 0.5\n",
    "\n",
    "bo = BayesOpt()\n",
    "#print(\"load_data, after dimension conversion:\")\n",
    "\n",
    "#load initial data\n",
    "bo.load_data(real_X, real_Y)\n",
    "\n",
    "#first round of gpr\n",
    "bo.do_gpr(gpr_hp_dict)\n",
    "bo.gpr_predict(X)\n",
    "#check the GPR results make sense or not. If yes, please continue with aqusition functions\n",
    "#Otherwise, modify the gpr_hp_dict inputs\n",
    "\n",
    "#do prediction for initial guess x0\n",
    "bo.aq_func(x0, ucb_beta = 2)\n",
    "\n",
    "#next_x = bo.next_x[0]\n",
    "bo.comp_best_x(obs_best_x)"
   ]
  },
  {
   "cell_type": "code",
   "execution_count": 204,
   "id": "31ffd805",
   "metadata": {},
   "outputs": [
    {
     "name": "stdout",
     "output_type": "stream",
     "text": [
      "gpr log: {'gpr': GaussianProcessRegressor(alpha=0.5,\n",
      "                         kernel=1**2 * Matern(length_scale=1, nu=1.5) + 0**2,\n",
      "                         random_state=1), 'opt_kernel': 0.843**2 * Matern(length_scale=2.46, nu=1.5) + 0.00316**2, 'score': 0.6399515168644871}\n",
      "Look out for warning message. If says convergence failed, please modify the gpr_hp_dict inputs\n",
      "UCB starts...\n",
      "success?: True\n",
      "Recommended next x to go: [1.45720344]\n",
      "Difference from observed best x: 0.37621388786667365.\n",
      "With error: 25.817526740713987%.\n"
     ]
    },
    {
     "name": "stderr",
     "output_type": "stream",
     "text": [
      "C:\\Users\\sh19129\\anaconda3\\lib\\site-packages\\sklearn\\gaussian_process\\kernels.py:285: RuntimeWarning: divide by zero encountered in log\n",
      "  return np.log(np.hstack(theta))\n",
      "C:\\Users\\sh19129\\anaconda3\\lib\\site-packages\\sklearn\\gaussian_process\\kernels.py:420: ConvergenceWarning: The optimal value found for dimension 0 of parameter k2__constant_value is close to the specified lower bound 1e-05. Decreasing the bound and calling fit again may find a better value.\n",
      "  warnings.warn(\n"
     ]
    },
    {
     "data": {
      "image/png": "[encoded data removed]",
      "text/plain": [
       "<Figure size 432x288 with 1 Axes>"
      ]
     },
     "metadata": {
      "needs_background": "light"
     },
     "output_type": "display_data"
    },
    {
     "data": {
      "image/png": "[encoded data removed]",
      "text/plain": [
       "<Figure size 432x288 with 1 Axes>"
      ]
     },
     "metadata": {
      "needs_background": "light"
     },
     "output_type": "display_data"
    }
   ],
   "source": [
    "#add new dataset to the prior knowledgebase\n",
    "#make sure the index in the new_x series match with the new_y series\n",
    "#For example, np.array([new_x_0, new_x_1, ...]), np.array([new_y_0, new_y_1, ...]) correspond to (new_x_0, new_y_0), (new_x_1, new_y_1), etc.\n",
    "#here, new_x and new_y can either be numbers or list or array\n",
    "\n",
    "\n",
    "#add the previous observed best X, Y to the training set\n",
    "#so as to refine the model\n",
    "new_x = np.array([obs_best_x])\n",
    "new_y = -obs_best_y\n",
    "\n",
    "#the array form\n",
    "bo.add_new_data(new_x, new_y)\n",
    "\n",
    "#run gpr + aq_func step again, see what has changed\n",
    "\n",
    "#if warning says hp needs to be modified\n",
    "# gpr_hp_dict = modify_hp(gpr_hp_dict, noise_level = 1, length_scale = 1, length_scale_bounds = (1e-4, 1e2), kern = 'matern', nu = 1.5, amp = 1, const = 0)\n",
    "\n",
    "bo.do_gpr(gpr_hp_dict)\n",
    "bo.gpr_predict(X)\n",
    "\n",
    "x0 = obs_best_x+0.1\n",
    "bo.aq_func(x0, ucb_beta = 1.96)\n",
    "#It is expected to see more experimental data points in the second figure.\n",
    "#The model has also been refined. (check gpr_log parameters)\n",
    "bo.comp_best_x(obs_best_x)"
   ]
  },
  {
   "cell_type": "markdown",
   "id": "56a0fe76",
   "metadata": {},
   "source": [
    "The next point to measure is proposed as 1.45\n",
    "\n",
    "A step to convert back to the PC space, then the original feature space will be required. \n"
   ]
  },
  {
   "cell_type": "markdown",
   "id": "93714bb5",
   "metadata": {},
   "source": [
    "According to the correlation between X1-Y and X2-Y, X1-Y has a stronger correlation. \n",
    "\n",
    "We guess the next X1 to go as the current highest X1 plus 1, i.e., "
   ]
  },
  {
   "cell_type": "code",
   "execution_count": 207,
   "id": "0719590e",
   "metadata": {},
   "outputs": [],
   "source": [
    "train_df.sort_values(by = 'X1', ascending = False)\n",
    "next_X1 = train_df.iloc[0]['X1'] + 1"
   ]
  },
  {
   "cell_type": "markdown",
   "id": "29b2b4ea",
   "metadata": {},
   "source": [
    "We can then revisit the correlation matrix of each variable with Y"
   ]
  },
  {
   "cell_type": "code",
   "execution_count": 208,
   "id": "98df8b79",
   "metadata": {},
   "outputs": [],
   "source": [
    "all_corr_dict = get_all_corr(all_col, train_df) #this time we don't distinguish the best or not"
   ]
  },
  {
   "cell_type": "code",
   "execution_count": 209,
   "id": "0d2cec9d",
   "metadata": {},
   "outputs": [
    {
     "data": {
      "text/plain": [
       "{'X': ['X1', 'X2'], 'corr_X_Y': [0.6807575882726294, -0.15811810254336017]}"
      ]
     },
     "execution_count": 209,
     "metadata": {},
     "output_type": "execute_result"
    }
   ],
   "source": [
    "all_corr_dict"
   ]
  },
  {
   "cell_type": "code",
   "execution_count": 213,
   "id": "501f8dfe",
   "metadata": {},
   "outputs": [],
   "source": [
    "next_X2 = ((bo.next_x - all_corr_dict['corr_X_Y'][0]*next_X1)/all_corr_dict['corr_X_Y'][1])[0]"
   ]
  },
  {
   "cell_type": "code",
   "execution_count": 216,
   "id": "3a728694",
   "metadata": {},
   "outputs": [
    {
     "name": "stdout",
     "output_type": "stream",
     "text": [
      "next X1: 3.993403898202905\n",
      "next X2: 7.977180007525356\n"
     ]
    }
   ],
   "source": [
    "print(f\"next X1: {next_X1}\")\n",
    "print(f\"next X2: {next_X2}\")\n",
    "#note that next X2 is less important than next X1, due to lower contribution towards the target observable"
   ]
  },
  {
   "cell_type": "code",
   "execution_count": null,
   "id": "18c6bd3d",
   "metadata": {},
   "outputs": [],
   "source": []
  }
 ],
 "metadata": {
  "kernelspec": {
   "display_name": "Python 3 (ipykernel)",
   "language": "python",
   "name": "python3"
  },
  "language_info": {
   "codemirror_mode": {
    "name": "ipython",
    "version": 3
   },
   "file_extension": ".py",
   "mimetype": "text/x-python",
   "name": "python",
   "nbconvert_exporter": "python",
   "pygments_lexer": "ipython3",
   "version": "3.7.3"
  }
 },
 "nbformat": 4,
 "nbformat_minor": 5
}
