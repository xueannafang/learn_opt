{
 "cells": [
  {
   "cell_type": "markdown",
   "id": "b21be3de-e8f6-4786-9c5a-e15462405523",
   "metadata": {},
   "source": [
    "Use the package provided by: https://github.com/bayesian-optimization/BayesianOptimization\n",
    "to do multi-dimensional data BO"
   ]
  },
  {
   "cell_type": "code",
   "execution_count": 1,
   "id": "cdc4e620-813b-41f9-90ca-0a500b0c61a8",
   "metadata": {},
   "outputs": [],
   "source": [
    "import pandas as pd\n",
    "import numpy as np"
   ]
  },
  {
   "cell_type": "code",
   "execution_count": 12,
   "id": "d8a34b1c-97f7-4fd4-8269-90aa5cd4ff2e",
   "metadata": {},
   "outputs": [],
   "source": [
    "import matplotlib.pyplot as plt"
   ]
  },
  {
   "cell_type": "code",
   "execution_count": 2,
   "id": "1598b986-c495-4801-87a2-b9314832e22f",
   "metadata": {},
   "outputs": [
    {
     "data": {
      "text/html": [
       "<div>\n",
       "<style scoped>\n",
       "    .dataframe tbody tr th:only-of-type {\n",
       "        vertical-align: middle;\n",
       "    }\n",
       "\n",
       "    .dataframe tbody tr th {\n",
       "        vertical-align: top;\n",
       "    }\n",
       "\n",
       "    .dataframe thead th {\n",
       "        text-align: right;\n",
       "    }\n",
       "</style>\n",
       "<table border=\"1\" class=\"dataframe\">\n",
       "  <thead>\n",
       "    <tr style=\"text-align: right;\">\n",
       "      <th></th>\n",
       "      <th>Unnamed: 0</th>\n",
       "      <th>PC1</th>\n",
       "      <th>PC2</th>\n",
       "      <th>standardised_yield</th>\n",
       "      <th>yield</th>\n",
       "    </tr>\n",
       "  </thead>\n",
       "  <tbody>\n",
       "    <tr>\n",
       "      <th>0</th>\n",
       "      <td>0</td>\n",
       "      <td>2.993404</td>\n",
       "      <td>1.292484</td>\n",
       "      <td>1.498429</td>\n",
       "      <td>0.82</td>\n",
       "    </tr>\n",
       "    <tr>\n",
       "      <th>1</th>\n",
       "      <td>1</td>\n",
       "      <td>-0.088412</td>\n",
       "      <td>-1.644992</td>\n",
       "      <td>1.081716</td>\n",
       "      <td>0.72</td>\n",
       "    </tr>\n",
       "    <tr>\n",
       "      <th>2</th>\n",
       "      <td>2</td>\n",
       "      <td>7.073370</td>\n",
       "      <td>1.667592</td>\n",
       "      <td>0.998374</td>\n",
       "      <td>0.70</td>\n",
       "    </tr>\n",
       "    <tr>\n",
       "      <th>3</th>\n",
       "      <td>3</td>\n",
       "      <td>4.542111</td>\n",
       "      <td>2.017177</td>\n",
       "      <td>0.665004</td>\n",
       "      <td>0.62</td>\n",
       "    </tr>\n",
       "    <tr>\n",
       "      <th>4</th>\n",
       "      <td>4</td>\n",
       "      <td>3.072163</td>\n",
       "      <td>-1.591613</td>\n",
       "      <td>0.248291</td>\n",
       "      <td>0.52</td>\n",
       "    </tr>\n",
       "  </tbody>\n",
       "</table>\n",
       "</div>"
      ],
      "text/plain": [
       "   Unnamed: 0       PC1       PC2  standardised_yield  yield\n",
       "0           0  2.993404  1.292484            1.498429   0.82\n",
       "1           1 -0.088412 -1.644992            1.081716   0.72\n",
       "2           2  7.073370  1.667592            0.998374   0.70\n",
       "3           3  4.542111  2.017177            0.665004   0.62\n",
       "4           4  3.072163 -1.591613            0.248291   0.52"
      ]
     },
     "execution_count": 2,
     "metadata": {},
     "output_type": "execute_result"
    }
   ],
   "source": [
    "#data prep\n",
    "data_file = \"bo_test_pca_df_mono_24.csv\"\n",
    "origin_data = pd.read_csv(data_file, index_col = None)\n",
    "origin_data.head()\n"
   ]
  },
  {
   "cell_type": "code",
   "execution_count": 3,
   "id": "91eca3ca-a6b4-4f70-8e87-e2df0cb55e19",
   "metadata": {},
   "outputs": [],
   "source": [
    "#PC1 PC2 are params, std_yield is target\n",
    "#goal to maximise\n",
    "data_for_bo_df = pd.DataFrame()\n",
    "data_for_bo_df[['PC1', 'PC2', 'y']] = origin_data[['PC1', 'PC2', 'standardised_yield']]"
   ]
  },
  {
   "cell_type": "code",
   "execution_count": 4,
   "id": "91215578-853b-401e-b358-5ab90023d16d",
   "metadata": {},
   "outputs": [
    {
     "data": {
      "text/html": [
       "<div>\n",
       "<style scoped>\n",
       "    .dataframe tbody tr th:only-of-type {\n",
       "        vertical-align: middle;\n",
       "    }\n",
       "\n",
       "    .dataframe tbody tr th {\n",
       "        vertical-align: top;\n",
       "    }\n",
       "\n",
       "    .dataframe thead th {\n",
       "        text-align: right;\n",
       "    }\n",
       "</style>\n",
       "<table border=\"1\" class=\"dataframe\">\n",
       "  <thead>\n",
       "    <tr style=\"text-align: right;\">\n",
       "      <th></th>\n",
       "      <th>PC1</th>\n",
       "      <th>PC2</th>\n",
       "      <th>y</th>\n",
       "    </tr>\n",
       "  </thead>\n",
       "  <tbody>\n",
       "    <tr>\n",
       "      <th>0</th>\n",
       "      <td>2.993404</td>\n",
       "      <td>1.292484</td>\n",
       "      <td>1.498429</td>\n",
       "    </tr>\n",
       "    <tr>\n",
       "      <th>1</th>\n",
       "      <td>-0.088412</td>\n",
       "      <td>-1.644992</td>\n",
       "      <td>1.081716</td>\n",
       "    </tr>\n",
       "    <tr>\n",
       "      <th>2</th>\n",
       "      <td>7.073370</td>\n",
       "      <td>1.667592</td>\n",
       "      <td>0.998374</td>\n",
       "    </tr>\n",
       "    <tr>\n",
       "      <th>3</th>\n",
       "      <td>4.542111</td>\n",
       "      <td>2.017177</td>\n",
       "      <td>0.665004</td>\n",
       "    </tr>\n",
       "    <tr>\n",
       "      <th>4</th>\n",
       "      <td>3.072163</td>\n",
       "      <td>-1.591613</td>\n",
       "      <td>0.248291</td>\n",
       "    </tr>\n",
       "  </tbody>\n",
       "</table>\n",
       "</div>"
      ],
      "text/plain": [
       "        PC1       PC2         y\n",
       "0  2.993404  1.292484  1.498429\n",
       "1 -0.088412 -1.644992  1.081716\n",
       "2  7.073370  1.667592  0.998374\n",
       "3  4.542111  2.017177  0.665004\n",
       "4  3.072163 -1.591613  0.248291"
      ]
     },
     "execution_count": 4,
     "metadata": {},
     "output_type": "execute_result"
    }
   ],
   "source": [
    "data_for_bo_df.head()"
   ]
  },
  {
   "cell_type": "code",
   "execution_count": 5,
   "id": "d0ba08c6-1209-42a3-b604-e48d14ec10e7",
   "metadata": {},
   "outputs": [],
   "source": [
    "PC1 = data_for_bo_df['PC1'].values.tolist()\n",
    "PC2 = data_for_bo_df['PC2'].values.tolist()\n",
    "Y = (data_for_bo_df['y']).values.tolist()"
   ]
  },
  {
   "cell_type": "code",
   "execution_count": 6,
   "id": "b5604452-60d4-4a93-befb-14bb9957b4d1",
   "metadata": {},
   "outputs": [],
   "source": [
    "PC1_pbound = tuple(data_for_bo_df['PC1'].describe()[['min', 'max']])\n",
    "PC2_pbound = tuple(data_for_bo_df['PC2'].describe()[['min', 'max']])"
   ]
  },
  {
   "cell_type": "code",
   "execution_count": 7,
   "id": "dfa538b6-8050-482d-9e34-ae6e9c58c688",
   "metadata": {},
   "outputs": [],
   "source": [
    "from bayes_opt import BayesianOptimization"
   ]
  },
  {
   "cell_type": "code",
   "execution_count": 8,
   "id": "aa96f100-89ab-4369-a31c-6126b0edfce5",
   "metadata": {},
   "outputs": [],
   "source": [
    "optimizer = BayesianOptimization(\n",
    "    f=None,\n",
    "    pbounds={'PC1': PC1_pbound, 'PC2': PC2_pbound},\n",
    "    verbose=2,\n",
    "    random_state=1,\n",
    ")\n",
    "optimizer.set_gp_params(alpha=0.5)"
   ]
  },
  {
   "cell_type": "code",
   "execution_count": 9,
   "id": "74bf0424-e1b5-4891-85ed-dfdd666162f2",
   "metadata": {},
   "outputs": [],
   "source": [
    "#register our data\n",
    "for pc1, pc2, y in zip(PC1, PC2, Y):\n",
    "    params = {\"PC1\" : pc1, \"PC2\": pc2}\n",
    "    optimizer.register(params=params, target=y)"
   ]
  },
  {
   "cell_type": "markdown",
   "id": "6b7077e3-1565-4439-bf0c-bb4119851a9d",
   "metadata": {},
   "source": [
    "# Change Acq function here!"
   ]
  },
  {
   "cell_type": "code",
   "execution_count": 140,
   "id": "db5139b9-228e-48b8-9273-d964fd3c5073",
   "metadata": {},
   "outputs": [],
   "source": [
    "#in this package, utility means aq func\n",
    "\n",
    "from bayes_opt import UtilityFunction\n",
    "\n",
    "# utility = UtilityFunction(kind=\"ucb\", kappa=1, xi=0.0)\n",
    "utility = UtilityFunction(kind=\"poi\", kappa=0.1, xi=1e-2)"
   ]
  },
  {
   "cell_type": "code",
   "execution_count": 141,
   "id": "57b8123c-c98b-4c77-8817-c61708cde838",
   "metadata": {},
   "outputs": [
    {
     "data": {
      "text/plain": [
       "(-4.209721501192254, 6.346178730753496)"
      ]
     },
     "execution_count": 141,
     "metadata": {},
     "output_type": "execute_result"
    },
    {
     "data": {
      "image/png": "[encoded data removed]",
      "text/plain": [
       "<Figure size 640x480 with 1 Axes>"
      ]
     },
     "metadata": {},
     "output_type": "display_data"
    }
   ],
   "source": [
    "for i in range(20):\n",
    "    this_res = optimizer.suggest(utility)\n",
    "    plt.scatter(this_res[\"PC1\"], this_res[\"PC2\"], marker = \"*\")\n",
    "\n",
    "plt.xlim(*PC1_pbound)\n",
    "plt.ylim(*PC2_pbound)\n",
    "    "
   ]
  },
  {
   "cell_type": "code",
   "execution_count": 142,
   "id": "bbc1ce7d-8d18-41b5-a019-56d1cf8d2a43",
   "metadata": {},
   "outputs": [
    {
     "data": {
      "text/plain": [
       "{'PC1': 1.8957835781870673, 'PC2': -4.209721501192254}"
      ]
     },
     "execution_count": 142,
     "metadata": {},
     "output_type": "execute_result"
    }
   ],
   "source": [
    "res = optimizer.suggest(utility)\n",
    "\n",
    "res"
   ]
  },
  {
   "cell_type": "code",
   "execution_count": 143,
   "id": "8f553768-8336-4561-895b-864fd0d79685",
   "metadata": {},
   "outputs": [
    {
     "data": {
      "text/plain": [
       "<matplotlib.collections.PathCollection at 0x12bf0203ca0>"
      ]
     },
     "execution_count": 143,
     "metadata": {},
     "output_type": "execute_result"
    },
    {
     "data": {
      "image/png": "[encoded data removed]",
      "text/plain": [
       "<Figure size 640x480 with 2 Axes>"
      ]
     },
     "metadata": {},
     "output_type": "display_data"
    }
   ],
   "source": [
    "plt.scatter(PC1, PC2, c = Y)\n",
    "plt.colorbar()\n",
    "plt.xlabel(\"PC1\")\n",
    "plt.ylabel(\"PC2\")\n",
    "plt.scatter(res[\"PC1\"], res[\"PC2\"], marker = \"*\")"
   ]
  },
  {
   "cell_type": "code",
   "execution_count": 144,
   "id": "41ef8a06-754d-46ca-b91f-4d71d43d78b3",
   "metadata": {},
   "outputs": [
    {
     "data": {
      "text/plain": [
       "{'target': 1.4984287460757888,\n",
       " 'params': {'PC1': 2.993403898202905, 'PC2': 1.2924838270266477}}"
      ]
     },
     "execution_count": 144,
     "metadata": {},
     "output_type": "execute_result"
    }
   ],
   "source": [
    "optimizer.max"
   ]
  },
  {
   "cell_type": "markdown",
   "id": "a4448948-dfa8-4bad-bc57-7eb6aa63f94f",
   "metadata": {},
   "source": [
    "Now we try to plot the utility function\n",
    "\n",
    "First we create the x's \n",
    "\n",
    "we select 100 points"
   ]
  },
  {
   "cell_type": "code",
   "execution_count": 145,
   "id": "9ee86850-b3ca-4df4-9b95-37e82f3c9f15",
   "metadata": {},
   "outputs": [],
   "source": [
    "Xpc1, Xpc2 = np.mgrid[PC1_pbound[0]:PC1_pbound[1]:101j, PC2_pbound[0]:PC2_pbound[1]:101j]"
   ]
  },
  {
   "cell_type": "code",
   "execution_count": 150,
   "id": "7ed171a4-95b5-4758-9d59-c4f0e1395d3b",
   "metadata": {},
   "outputs": [],
   "source": [
    "#flatten the 2D array into 1D"
   ]
  },
  {
   "cell_type": "code",
   "execution_count": 146,
   "id": "066bbed1-f390-438d-a715-51e5893fc14e",
   "metadata": {},
   "outputs": [],
   "source": [
    "xpc = [ [xpc1, xpc2] for xpc1, xpc2 in zip(Xpc1.flatten(), Xpc2.flatten())]"
   ]
  },
  {
   "cell_type": "code",
   "execution_count": 151,
   "id": "112e87a5-3193-4182-9c63-83ac19d5ad21",
   "metadata": {},
   "outputs": [],
   "source": [
    "#extract the utility function and calculate each value of utility function for linspaced x's"
   ]
  },
  {
   "cell_type": "code",
   "execution_count": 147,
   "id": "c230a6da-7439-4b48-8c3e-0bd0cf0d1693",
   "metadata": {},
   "outputs": [],
   "source": [
    "util_flat = utility.utility(xpc, optimizer._gp, optimizer.max['target'])"
   ]
  },
  {
   "cell_type": "code",
   "execution_count": null,
   "id": "94089e08-a1f6-4059-a27b-9316afd2894f",
   "metadata": {},
   "outputs": [],
   "source": [
    "#and resh"
   ]
  },
  {
   "cell_type": "code",
   "execution_count": 148,
   "id": "9c52a4dc-6be0-49c7-879b-854164656547",
   "metadata": {},
   "outputs": [],
   "source": [
    "util = util_flat.reshape(101,101)"
   ]
  },
  {
   "cell_type": "code",
   "execution_count": 149,
   "id": "73aa133e-5ffa-4a48-a2ad-f28bd2926b65",
   "metadata": {},
   "outputs": [
    {
     "data": {
      "text/plain": [
       "<matplotlib.collections.PathCollection at 0x12bf0137310>"
      ]
     },
     "execution_count": 149,
     "metadata": {},
     "output_type": "execute_result"
    },
    {
     "data": {
      "image/png": "[encoded data removed]",
      "text/plain": [
       "<Figure size 640x480 with 2 Axes>"
      ]
     },
     "metadata": {},
     "output_type": "display_data"
    }
   ],
   "source": [
    "from matplotlib.colors import CenteredNorm\n",
    "# plt.pcolor(Xpc1, Xpc2, util, cmap='RdBu_r', norm=CenteredNorm())\n",
    "plt.contourf(Xpc1, Xpc2, util, 15, cmap='RdBu_r', norm=CenteredNorm())\n",
    "plt.colorbar()\n",
    "\n",
    "plt.scatter(PC1, PC2, c = Y)\n",
    "plt.xlabel(\"PC1\")\n",
    "plt.ylabel(\"PC2\")\n",
    "plt.scatter(res[\"PC1\"], res[\"PC2\"], marker = \"*\")"
   ]
  },
  {
   "cell_type": "code",
   "execution_count": null,
   "id": "f7153d6b-7666-450d-b5b2-1961377d22f9",
   "metadata": {},
   "outputs": [],
   "source": []
  },
  {
   "cell_type": "code",
   "execution_count": null,
   "id": "f75fb9b2-43b9-465e-a633-e8e3e20d305c",
   "metadata": {},
   "outputs": [],
   "source": []
  },
  {
   "cell_type": "code",
   "execution_count": null,
   "id": "bacefc62-731c-4bb8-adb5-6bb3eccc8a66",
   "metadata": {},
   "outputs": [],
   "source": []
  }
 ],
 "metadata": {
  "kernelspec": {
   "display_name": "Python 3 (ipykernel)",
   "language": "python",
   "name": "python3"
  },
  "language_info": {
   "codemirror_mode": {
    "name": "ipython",
    "version": 3
   },
   "file_extension": ".py",
   "mimetype": "text/x-python",
   "name": "python",
   "nbconvert_exporter": "python",
   "pygments_lexer": "ipython3",
   "version": "3.10.13"
  }
 },
 "nbformat": 4,
 "nbformat_minor": 5
}
