{
 "cells": [
  {
   "cell_type": "markdown",
   "id": "ebe89ea4",
   "metadata": {},
   "source": [
    "This file is to go through the basic process of Bayesian optimisation\n",
    "\n",
    "Background:\n",
    "\n",
    "Take one measurement is very time-consuming and/or expensive.\n",
    "The measurement is associated with noise.\n",
    "\n",
    "We want to find the potential optimal of the studied system with as few experimental data as possible.\n",
    "We assume there is no prior knowledge of this model.\n",
    "\n",
    "That's saying, we want to optimise a blackbox problem with limited amount of data."
   ]
  },
  {
   "cell_type": "code",
   "execution_count": 53,
   "id": "07eca35d",
   "metadata": {},
   "outputs": [],
   "source": [
    "#Step 1: Generate data according to assumed model\n",
    "#y = 0.5*x**2+0.3*x+0.1\n",
    "#add a Gaussian random perturbation of with maximum scale as 1\n",
    "\n",
    "#Note that this parabola model below is beyond our prior knowledge, and is just an example that works best with my brain.\n",
    "#Let's say it's defined by some magic force (but we have to create it to explain this process.)\n",
    "\n",
    "#In real case, we only have a group of data, which is the real_X, real_Y below,\n",
    "#but we would not know the relationship between them, i.e., the equation in std_model function, we don't know that."
   ]
  },
  {
   "cell_type": "code",
   "execution_count": 54,
   "id": "1e731de7",
   "metadata": {},
   "outputs": [],
   "source": [
    "import numpy as np\n",
    "seed = 95\n",
    "np.random.seed(seed)"
   ]
  },
  {
   "cell_type": "code",
   "execution_count": 55,
   "id": "3be21d47",
   "metadata": {},
   "outputs": [],
   "source": [
    "import matplotlib.pyplot as plt"
   ]
  },
  {
   "cell_type": "code",
   "execution_count": 72,
   "id": "ae9ee15c",
   "metadata": {},
   "outputs": [],
   "source": [
    "def std_model(X:np.ndarray)->np.ndarray:\n",
    "    \"\"\"\n",
    "    This is the standard model without noise\n",
    "    \"\"\"\n",
    "    Y = 0.5*X**2 + 0.3*X + 0.1 #This is a pre-defined real physical model\n",
    "    return Y\n",
    "\n",
    "def exp_model(X:np.ndarray, noise_level = 1):\n",
    "    #noise_level is the standard deviation, 67% of the data will be within pm 1 from the centre y data\n",
    "    Y = std_model(X)\n",
    "    noise = np.random.normal(scale = noise_level, size = Y.shape)\n",
    "    real_Y = Y + noise\n",
    "    return real_Y\n",
    "    "
   ]
  },
  {
   "cell_type": "code",
   "execution_count": 73,
   "id": "93b00c30",
   "metadata": {},
   "outputs": [],
   "source": [
    "#generate the initial X\n",
    "X = np.linspace(-10, 10, 201) #Generate 201 initial points from -10 to 10\n",
    "Y = std_model(X)\n",
    "real_X = np.random.uniform(-10, 10, 11) # this is the perturbated series.\n",
    "real_Y = exp_model(real_X)"
   ]
  },
  {
   "cell_type": "code",
   "execution_count": 74,
   "id": "1513b953",
   "metadata": {},
   "outputs": [
    {
     "data": {
      "text/plain": [
       "<matplotlib.legend.Legend at 0x1d952918d90>"
      ]
     },
     "execution_count": 74,
     "metadata": {},
     "output_type": "execute_result"
    },
    {
     "data": {
      "image/png": "[encoded data removed]",
      "text/plain": [
       "<Figure size 432x288 with 1 Axes>"
      ]
     },
     "metadata": {
      "needs_background": "light"
     },
     "output_type": "display_data"
    }
   ],
   "source": [
    "fig, ax = plt.subplots()\n",
    "ax.plot(X, Y, color = 'red', label = 'theoretical')\n",
    "ax.scatter(real_X, real_Y, color = 'blue', marker = 'x', label = 'experimental')\n",
    "ax.legend()"
   ]
  },
  {
   "cell_type": "code",
   "execution_count": 75,
   "id": "0d47716a",
   "metadata": {},
   "outputs": [],
   "source": [
    "#Perfecto!\n",
    "#Now we have our 11 measurements (labelled as cross)\n",
    "#Ignore the red line behind it for now. We will come back to that later."
   ]
  },
  {
   "cell_type": "code",
   "execution_count": 76,
   "id": "a29a7300",
   "metadata": {},
   "outputs": [],
   "source": [
    "#Step 2: Now let's welcome Thomas Bayes, the father of Bayesian statistics\n",
    "#https://en.wikipedia.org/wiki/Bayesian_statistics\n",
    "\n",
    "#Step 2.1: Gaussian process regression\n",
    "#https://scikit-learn.org/stable/modules/gaussian_process.html\n",
    "# Gaussian Processes (GP) are a nonparametric supervised learning method\n",
    "#used to solve regression and probabilistic classification problems.\n",
    "\n",
    "#If we need Bayesian optimisation, we have numerical data that are waiting to fit.\n",
    "#That means we are doing a regression process.\n",
    "#GPR: Gaussian Process Regression\n",
    "#https://scikit-learn.org/stable/modules/generated/sklearn.gaussian_process.GaussianProcessRegressor.html#sklearn.gaussian_process.GaussianProcessRegressor"
   ]
  },
  {
   "cell_type": "code",
   "execution_count": 77,
   "id": "55fcf0da",
   "metadata": {},
   "outputs": [],
   "source": [
    "from sklearn.gaussian_process import GaussianProcessRegressor as GPR"
   ]
  },
  {
   "cell_type": "code",
   "execution_count": 78,
   "id": "4c790262",
   "metadata": {},
   "outputs": [],
   "source": [
    "#We need to first specify the \"kernel\"\n",
    "#https://scikit-learn.org/stable/modules/gaussian_process.html#kernels-for-gaussian-processes\n",
    "\n",
    "#Which kernel to use?\n",
    "#The answer depends on our expectation on the property of our model.\n",
    "#For example, if we think the model is oscillating, then our kernel should idelly include some oscillating properties,\n",
    "#such as sigmoid functions.\n",
    "#If the model is expected to be smooth, then we can use radial basis function (RBF).\n",
    "#The key property of RBF is that different features would have similar contribution towards the correlation with our observables.\n",
    "#If we have a specific feature that might have a super strong correlation, then RBF may not be suitable."
   ]
  },
  {
   "cell_type": "code",
   "execution_count": 79,
   "id": "656f77db",
   "metadata": {},
   "outputs": [],
   "source": [
    "#What is a kernel?\n",
    "#Kernel describes the covariance between X's of the measurement.\n",
    "\n",
    "#Suppose you have two series of measurement [X1, Y1], [X2, Y2].\n",
    "#You input (X1, X2) to the kernel function, and you will get a covariance between Y1 and Y2.\n"
   ]
  },
  {
   "cell_type": "markdown",
   "id": "1c8bdd2e",
   "metadata": {},
   "source": [
    "So what is the feature of different types of kernels?\n",
    "\n",
    "#Basic kernels:\n",
    "\n",
    "1) constant kernel: the covariance among measurements is a constant. (No matter how far your two data points are apart on the x-axis, their y values always have a same covariance.) This kernel modifies the mean of the Gaussian process.\n",
    "\n",
    "2) white kernel: There is no correlation between any sample points. However, each sample point has an intrinsic noise.\n",
    "\n",
    "The above two are useful for kernel operations\n",
    "\n",
    "Radial basis function kernel (RBF): The closer two measurements are, the higher correlation they have.\n",
    "\n",
    "The correlation decays by expoential way in RBF, but can be modified in other kernels, for example, Matern, rational quadratic,\n",
    "that helps with the modification on curve smoothness too.\n",
    "\n",
    "Exp-Sine-Squared kernel: this includes the periodicity feature in the decay.\n",
    "\n",
    "Dot-product kernel: this is a not-guarantee-to-converge kernel, and is non-stationary. It is invariant to rotation but not translation. "
   ]
  },
  {
   "cell_type": "code",
   "execution_count": 84,
   "id": "32b2c3e2",
   "metadata": {},
   "outputs": [],
   "source": [
    "#In this case, we first try RBF plus a white noise\n",
    "from sklearn.gaussian_process.kernels import WhiteKernel, RBF\n",
    "# kernel = WhiteKernel(0.05) + RBF(0.01) #this is a sum kernel from WhiteKernel with RBF\n",
    "kernel = 1*RBF(length_scale = 1, length_scale_bounds = (1e-2, 1e2)) + 0 #I tried 1 as the length_scale before, doesn't give a sensible results, everything is close to 0 after prediction\n",
    "#so I get rid of the whitekernel, the noise is added to gpr alpha.\n",
    "#alpha is the variance of the gaussian noise\n",
    "#the 1 multiplied at the beginning is to add one more parameter (the coefficient here) to the model.\n",
    "#GPR will automatically modify those new parameters, for example we can also add a constant.\n",
    "\n",
    "#Note that the default distance or scale hyperparameter in RBF is 1, but in this case it is too large,\n",
    "#So we have manually modify it down to 0.1"
   ]
  },
  {
   "cell_type": "code",
   "execution_count": 94,
   "id": "ce4303c6",
   "metadata": {},
   "outputs": [
    {
     "name": "stdout",
     "output_type": "stream",
     "text": [
      "kernel after training: \n",
      "\n",
      "255**2 * RBF(length_scale=25.7) + 0.00321**2\n",
      "score: \n",
      "\n",
      "0.998651889051096\n"
     ]
    },
    {
     "name": "stderr",
     "output_type": "stream",
     "text": [
      "C:\\Users\\sh19129\\anaconda3\\lib\\site-packages\\sklearn\\gaussian_process\\kernels.py:285: RuntimeWarning: divide by zero encountered in log\n",
      "  return np.log(np.hstack(theta))\n"
     ]
    }
   ],
   "source": [
    "#Now we will feed our \"experimental data\", real_X and real_Y into the fitting model. \n",
    "#Note that if the data is one-dimensional, sklearn requires to reshape the x data into (-1, 1)\n",
    "gpr = GPR(kernel = kernel, alpha = 1, random_state = 1).fit(real_X.reshape(-1, 1), real_Y)\n",
    "#Note that you are not expected to see any warning message, otherwise you need to modify hyperparameters or remove the random_state argument.\n",
    "#Do not ignore Warnings before carrying out predictions.\n",
    "#The warning message can tell you convergence failed or not.\n",
    "\n",
    "print(\"kernel after training: \\n\")\n",
    "print(gpr.kernel_) #tell you what is the kernel hyperparameters\n",
    "\n",
    "print(\"score: \\n\")\n",
    "print(gpr.score(real_X.reshape(-1, 1), real_Y)) #compare the predicted y calculated from real_x with real_y"
   ]
  },
  {
   "cell_type": "code",
   "execution_count": 95,
   "id": "7fa8edee",
   "metadata": {},
   "outputs": [],
   "source": [
    "#predict y\n",
    "#We use the original 201 x's from the fitting curve, again, we don't know it's the fitting result before this prediction..\n",
    "#See what y's can we have from the gpr results\n",
    "#the Predict function return y_mean, y_std and y_cov. The latter two need to be specified as True when calling the function.\n",
    "#https://scikit-learn.org/stable/modules/generated/sklearn.gaussian_process.GaussianProcessRegressor.html#sklearn.gaussian_process.GaussianProcessRegressor.predict\n",
    "y_mean, y_std = gpr.predict(X.reshape(-1, 1), return_std = True)"
   ]
  },
  {
   "cell_type": "code",
   "execution_count": 96,
   "id": "2a7945dd",
   "metadata": {},
   "outputs": [
    {
     "data": {
      "text/plain": [
       "<matplotlib.legend.Legend at 0x1d953b6dee0>"
      ]
     },
     "execution_count": 96,
     "metadata": {},
     "output_type": "execute_result"
    },
    {
     "data": {
      "image/png": "[encoded data removed]",
      "text/plain": [
       "<Figure size 432x288 with 1 Axes>"
      ]
     },
     "metadata": {
      "needs_background": "light"
     },
     "output_type": "display_data"
    }
   ],
   "source": [
    "fig, ax = plt.subplots()\n",
    "ax.plot(X, Y, color = 'red', ls = '--', label = 'theoretical')\n",
    "ax.errorbar(real_X, real_Y, yerr = 1, color = 'black', ls = 'None', marker = '.', label = 'experimental') #yerr is the noise_level used above\n",
    "ax.plot(X, y_mean, color = 'tab:orange', label = 'predicted mean')\n",
    "ax.fill_between(X, y_mean-y_std*1.96, y_mean+y_std*1.96, alpha = 0.5, color = 'tab:orange', label = '95% confidence level') #1.96 on std is to plot 95% confidence interval\n",
    "ax.legend()"
   ]
  },
  {
   "cell_type": "code",
   "execution_count": 97,
   "id": "2f197946",
   "metadata": {},
   "outputs": [],
   "source": [
    "#Gaussian process has completed by this step"
   ]
  },
  {
   "cell_type": "code",
   "execution_count": 98,
   "id": "0c6e746f",
   "metadata": {},
   "outputs": [],
   "source": [
    "#Step 2.2: acquisition function\n",
    "#This is the thing that BO is optimising\n",
    "#Aquisition function tells us which point to go next.\n",
    "#The point you follow this function is more likely to give you a better result\n",
    "\n",
    "#Four common acquisition functions:\n",
    "#https://www.cse.wustl.edu/~garnett/cse515t/spring_2015/files/lecture_notes/12.pdf\n",
    "\n",
    "#Probability of improvement (POI), Expected improvement (EI), Entropy search (ES), Upper confidence bound (UCB),\n",
    "#among which UCB is normally used for finding the maximum, and is the most straightfoward method to implement, but not guaranteed to be the best"
   ]
  },
  {
   "cell_type": "code",
   "execution_count": 99,
   "id": "6b4a4aa5",
   "metadata": {},
   "outputs": [],
   "source": [
    "#UCB is similar to the concept of confidence level, but with a coefficient, beta, before std\n",
    "#see what we've done above, beta is 1.96 for 0.95 CI\n",
    "\n",
    "#ES: a method without a clear expression. You need to define what is the entropy first. It's hard to do with current technique.\n",
    "\n",
    "#EI: The point with the highest expected improvement (the maximal expected f_next) is selected according to the result of GP,\n",
    "#which gives the probability distribution of any point on the curve.\n",
    "\n",
    "#POI: similar to EI, but the foundation is probability instead of expectation. "
   ]
  },
  {
   "cell_type": "code",
   "execution_count": 100,
   "id": "909d7901",
   "metadata": {},
   "outputs": [],
   "source": [
    "#let's go for UCB for simplicity.\n",
    "#There are packages available, but for fun, and to understand this process better, we write the optimisation by ourselves. "
   ]
  },
  {
   "cell_type": "code",
   "execution_count": 101,
   "id": "a0103261",
   "metadata": {},
   "outputs": [],
   "source": [
    "from scipy.optimize import minimize"
   ]
  },
  {
   "cell_type": "code",
   "execution_count": 102,
   "id": "adc40b19",
   "metadata": {},
   "outputs": [],
   "source": [
    "def aq_func_ucb(x, beta, gpr):\n",
    "    \"\"\"\n",
    "    Although it is called ucb, the form it takes in this function is to minimise the acquisition function\n",
    "    \"\"\"\n",
    "    mean, std = gpr.predict(x.reshape(-1,1), return_std = True)\n",
    "    return mean - beta*std"
   ]
  },
  {
   "cell_type": "code",
   "execution_count": 112,
   "id": "61d2a62a",
   "metadata": {},
   "outputs": [
    {
     "name": "stdout",
     "output_type": "stream",
     "text": [
      "success?: False\n",
      "x: [-0.21001051]\n"
     ]
    }
   ],
   "source": [
    "x0 = -0.1 # the initial guess of the model, or the starting point, can be an average of all the previous data\n",
    "\n",
    "res = minimize(aq_func_ucb, x0 = x0, args = (1.96, gpr), tol = 1e-4) #this is one step of BO\n",
    "\n",
    "#the result says where shall we go next step\n",
    "#note that the tol argument can affect the convergence successful or not\n",
    "#print(res)\n",
    "\n",
    "#important features: success and x\n",
    "print(f\"success?: {res.success}\")\n",
    "print(f\"x: {res.x}\") #next x"
   ]
  },
  {
   "cell_type": "code",
   "execution_count": 322,
   "id": "59635235",
   "metadata": {},
   "outputs": [],
   "source": [
    "#the next steps are 1) to add this \"next x\" to the training set.\n",
    "#2) repeat the gpr to get a new gpr.\n",
    "#3) repeat the ucb to get the next x. Note that x0 would need to be the previous x, but can also be any guessed x.\n",
    "#It's all depends on what you want to do..\n",
    "#i.e., the goal of why you use BO.\n",
    "\n",
    "#For example, if you want to find a local minimal, you've already done this.\n",
    "#But if you want to explore more area in the vast data space, you can try a far away x0 to look for, maybe, a global minimal.\n",
    "#Just to cover more groud.\n",
    "#Bear in mind that the real-life data distribution is not necessary to be as simple as a parabola as we showed here."
   ]
  },
  {
   "cell_type": "code",
   "execution_count": 323,
   "id": "2571d146",
   "metadata": {},
   "outputs": [],
   "source": [
    "#To make this method more useful, we need further abstraction.. which we haven't reached there. This is just an initial step."
   ]
  },
  {
   "cell_type": "code",
   "execution_count": null,
   "id": "f7acb234",
   "metadata": {},
   "outputs": [],
   "source": [
    "#pre-define hyperparameters\n",
    "\n",
    "noise_level = 1 #the expected standard deviation of experimental measurement\n",
    "\n",
    "kernel = 1*RBF(length_scale = 1, length_scale_bounds = (1e-2, 1e2)) + 0\n",
    "\n",
    "hp_dict = {\n",
    "    'alpha' : noise_level,\n",
    "    'kernel' : kernel\n",
    "}"
   ]
  },
  {
   "cell_type": "code",
   "execution_count": null,
   "id": "e63c71bb",
   "metadata": {},
   "outputs": [],
   "source": [
    "class BayesOpt:\n",
    "    \n",
    "    def __init__(self):\n",
    "        self.data = [] #initialise the data container\n",
    "        pass\n",
    "    \n",
    "    \n",
    "    \n",
    "    "
   ]
  }
 ],
 "metadata": {
  "kernelspec": {
   "display_name": "Python 3 (ipykernel)",
   "language": "python",
   "name": "python3"
  },
  "language_info": {
   "codemirror_mode": {
    "name": "ipython",
    "version": 3
   },
   "file_extension": ".py",
   "mimetype": "text/x-python",
   "name": "python",
   "nbconvert_exporter": "python",
   "pygments_lexer": "ipython3",
   "version": "3.9.12"
  }
 },
 "nbformat": 4,
 "nbformat_minor": 5
}
